{
 "cells": [
  {
   "cell_type": "code",
   "execution_count": 2,
   "id": "7da80ecd-c010-499f-8b7d-98820038ffde",
   "metadata": {},
   "outputs": [
    {
     "data": {
      "text/html": [
       "<pre style=\"white-space:pre;overflow-x:auto;line-height:normal;font-family:Menlo,'DejaVu Sans Mono',consolas,'Courier New',monospace\">Manim Community <span style=\"color: #008000; text-decoration-color: #008000\">v0.17.2</span>\n",
       "\n",
       "</pre>\n"
      ],
      "text/plain": [
       "Manim Community \u001b[32mv0.\u001b[0m\u001b[32m17.2\u001b[0m\n",
       "\n"
      ]
     },
     "metadata": {},
     "output_type": "display_data"
    }
   ],
   "source": [
    "from manim import *\n",
    "\n",
    "class EllipseAndDot(Scene):\n",
    "    def construct(self):\n",
    "        # Create an ellipse\n",
    "        ellipse = Ellipse(width=3, height=2)\n",
    "        self.add(ellipse)\n",
    "\n",
    "        # Create a dot and set its initial position\n",
    "        dot = Dot()\n",
    "        dot.move_to(ellipse.get_center() + RIGHT * ellipse.get_width() / 2)\n",
    "        self.add(dot)\n",
    "\n",
    "        # Animate the dot moving along the ellipse\n",
    "        self.play(Rotating(dot, about_point=ellipse.get_center(), radians=TAU), run_time=4)\n",
    "\n"
   ]
  },
  {
   "cell_type": "code",
   "execution_count": 3,
   "id": "766bc5ed-ccef-4dea-bea4-6d2bad28a91a",
   "metadata": {},
   "outputs": [
    {
     "data": {
      "text/html": [
       "<pre style=\"white-space:pre;overflow-x:auto;line-height:normal;font-family:Menlo,'DejaVu Sans Mono',consolas,'Courier New',monospace\">Manim Community <span style=\"color: #008000; text-decoration-color: #008000\">v0.17.2</span>\n",
       "\n",
       "</pre>\n"
      ],
      "text/plain": [
       "Manim Community \u001b[32mv0.\u001b[0m\u001b[32m17.2\u001b[0m\n",
       "\n"
      ]
     },
     "metadata": {},
     "output_type": "display_data"
    }
   ],
   "source": [
    "from manim import *\n",
    "class Ellipse_Formula(Scene):\n",
    "    def construct(self):\n",
    "        formula = MathTex(r\"\\frac{x^2}{a^2}+\\frac{y^2}{b^2}=1\")\n",
    "        self.play(Write(formula), run_time=3)\n",
    "        self.wait()"
   ]
  },
  {
   "cell_type": "code",
   "execution_count": null,
   "id": "72951f86-dc7b-460f-bd49-d49c19b52b22",
   "metadata": {},
   "outputs": [],
   "source": []
  }
 ],
 "metadata": {
  "kernelspec": {
   "display_name": "Python 3 (ipykernel)",
   "language": "python",
   "name": "python3"
  },
  "language_info": {
   "codemirror_mode": {
    "name": "ipython",
    "version": 3
   },
   "file_extension": ".py",
   "mimetype": "text/x-python",
   "name": "python",
   "nbconvert_exporter": "python",
   "pygments_lexer": "ipython3",
   "version": "3.9.12"
  }
 },
 "nbformat": 4,
 "nbformat_minor": 5
}
