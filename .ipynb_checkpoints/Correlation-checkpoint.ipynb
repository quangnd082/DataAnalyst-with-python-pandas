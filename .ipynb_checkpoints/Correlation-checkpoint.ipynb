{
 "cells": [
  {
   "cell_type": "code",
   "execution_count": 1,
   "id": "a1f9d6a4",
   "metadata": {
    "id": "a1f9d6a4"
   },
   "outputs": [],
   "source": [
    "import numpy as np\n",
    "import matplotlib.pyplot as plt\n",
    "%matplotlib inline\n",
    "import pandas as pd\n",
    "import seaborn as sns\n",
    "import datetime"
   ]
  },
  {
   "cell_type": "code",
   "execution_count": 2,
   "id": "ca669643",
   "metadata": {
    "id": "ca669643"
   },
   "outputs": [],
   "source": [
    "df = pd.read_csv(\"historical_air_quality_2021_en.csv\")"
   ]
  },
  {
   "cell_type": "code",
   "execution_count": 3,
   "id": "34e89991",
   "metadata": {
    "id": "34e89991",
    "outputId": "333d89b8-9a37-4686-bc3b-68fae8f6325d",
    "scrolled": true
   },
   "outputs": [
    {
     "data": {
      "text/html": [
       "<div>\n",
       "<style scoped>\n",
       "    .dataframe tbody tr th:only-of-type {\n",
       "        vertical-align: middle;\n",
       "    }\n",
       "\n",
       "    .dataframe tbody tr th {\n",
       "        vertical-align: top;\n",
       "    }\n",
       "\n",
       "    .dataframe thead th {\n",
       "        text-align: right;\n",
       "    }\n",
       "</style>\n",
       "<table border=\"1\" class=\"dataframe\">\n",
       "  <thead>\n",
       "    <tr style=\"text-align: right;\">\n",
       "      <th></th>\n",
       "      <th>Station ID</th>\n",
       "      <th>AQI index</th>\n",
       "      <th>Location</th>\n",
       "      <th>Station name</th>\n",
       "      <th>Url</th>\n",
       "      <th>Dominent pollutant</th>\n",
       "      <th>CO</th>\n",
       "      <th>Dew</th>\n",
       "      <th>Humidity</th>\n",
       "      <th>NO2</th>\n",
       "      <th>...</th>\n",
       "      <th>Pressure</th>\n",
       "      <th>PM10</th>\n",
       "      <th>PM2.5</th>\n",
       "      <th>SO2</th>\n",
       "      <th>Temperature</th>\n",
       "      <th>Wind</th>\n",
       "      <th>Data Time S</th>\n",
       "      <th>Data Time Tz</th>\n",
       "      <th>Status</th>\n",
       "      <th>Alert level</th>\n",
       "    </tr>\n",
       "  </thead>\n",
       "  <tbody>\n",
       "    <tr>\n",
       "      <th>0</th>\n",
       "      <td>8767.0</td>\n",
       "      <td>102.00</td>\n",
       "      <td>10.782978,106.700711</td>\n",
       "      <td>Ho Chi Minh City US Consulate, Vietnam (Lãnh s...</td>\n",
       "      <td>https://aqicn.org/city/vietnam/ho-chi-minh-cit...</td>\n",
       "      <td>pm25</td>\n",
       "      <td>-</td>\n",
       "      <td>NaN</td>\n",
       "      <td>83.0</td>\n",
       "      <td>-</td>\n",
       "      <td>...</td>\n",
       "      <td>1,009.00</td>\n",
       "      <td>NaN</td>\n",
       "      <td>102.00</td>\n",
       "      <td>-</td>\n",
       "      <td>27.0</td>\n",
       "      <td>3.6</td>\n",
       "      <td>2021-01-21 19:00:00</td>\n",
       "      <td>+07:00</td>\n",
       "      <td>#NAME?</td>\n",
       "      <td>#NAME?</td>\n",
       "    </tr>\n",
       "    <tr>\n",
       "      <th>1</th>\n",
       "      <td>8688.0</td>\n",
       "      <td>221.00</td>\n",
       "      <td>21.0811211,105.8180306</td>\n",
       "      <td>United Nations International School of Hanoi, ...</td>\n",
       "      <td>https://aqicn.org/city/vietnam/hanoi/unis</td>\n",
       "      <td>aqi</td>\n",
       "      <td>-</td>\n",
       "      <td>NaN</td>\n",
       "      <td>77.0</td>\n",
       "      <td>-</td>\n",
       "      <td>...</td>\n",
       "      <td>1,015.00</td>\n",
       "      <td>NaN</td>\n",
       "      <td>-</td>\n",
       "      <td>-</td>\n",
       "      <td>18.0</td>\n",
       "      <td>1.5</td>\n",
       "      <td>2021-01-21 20:00:00</td>\n",
       "      <td>+07:00</td>\n",
       "      <td>#NAME?</td>\n",
       "      <td>#NAME?</td>\n",
       "    </tr>\n",
       "    <tr>\n",
       "      <th>2</th>\n",
       "      <td>8641.0</td>\n",
       "      <td>281.00</td>\n",
       "      <td>21.0215063,105.8188748</td>\n",
       "      <td>Hanoi US Embassy, Vietnam (Đại sứ quán Mỹ, Hà ...</td>\n",
       "      <td>https://aqicn.org/city/vietnam/hanoi/us-embassy</td>\n",
       "      <td>pm25</td>\n",
       "      <td>0.30</td>\n",
       "      <td>NaN</td>\n",
       "      <td>77.0</td>\n",
       "      <td>8.70</td>\n",
       "      <td>...</td>\n",
       "      <td>1,015.00</td>\n",
       "      <td>NaN</td>\n",
       "      <td>281.00</td>\n",
       "      <td>2.10</td>\n",
       "      <td>18.0</td>\n",
       "      <td>1.5</td>\n",
       "      <td>2021-01-21 20:00:00</td>\n",
       "      <td>+07:00</td>\n",
       "      <td>#NAME?</td>\n",
       "      <td>#NAME?</td>\n",
       "    </tr>\n",
       "    <tr>\n",
       "      <th>3</th>\n",
       "      <td>13012.0</td>\n",
       "      <td>36.00</td>\n",
       "      <td>13.998599,107.996482</td>\n",
       "      <td>Gia Lai/phường Thống Nhất - Pleiku, Vietnam</td>\n",
       "      <td>https://aqicn.org/city/vietnam/gia-lai/phuong-...</td>\n",
       "      <td>pm25</td>\n",
       "      <td>3.00</td>\n",
       "      <td>NaN</td>\n",
       "      <td>60.2</td>\n",
       "      <td>6.00</td>\n",
       "      <td>...</td>\n",
       "      <td>923.70</td>\n",
       "      <td>29.00</td>\n",
       "      <td>36.00</td>\n",
       "      <td>1.00</td>\n",
       "      <td>24.3</td>\n",
       "      <td>1.0</td>\n",
       "      <td>2021-01-21 20:00:00</td>\n",
       "      <td>+07:00</td>\n",
       "      <td>#NAME?</td>\n",
       "      <td>#NAME?</td>\n",
       "    </tr>\n",
       "    <tr>\n",
       "      <th>4</th>\n",
       "      <td>12488.0</td>\n",
       "      <td>68.00</td>\n",
       "      <td>16.46226,107.596351</td>\n",
       "      <td>Thừa Thiên Huế/83 Hùng Vương, Vietnam</td>\n",
       "      <td>https://aqicn.org/city/vietnam/thua-thien-hue/...</td>\n",
       "      <td>pm25</td>\n",
       "      <td>2.00</td>\n",
       "      <td>NaN</td>\n",
       "      <td>88.0</td>\n",
       "      <td>-</td>\n",
       "      <td>...</td>\n",
       "      <td>1,015.00</td>\n",
       "      <td>52.00</td>\n",
       "      <td>68.00</td>\n",
       "      <td>-</td>\n",
       "      <td>21.0</td>\n",
       "      <td>1.0</td>\n",
       "      <td>2021-01-21 19:00:00</td>\n",
       "      <td>+07:00</td>\n",
       "      <td>#NAME?</td>\n",
       "      <td>#NAME?</td>\n",
       "    </tr>\n",
       "    <tr>\n",
       "      <th>5</th>\n",
       "      <td>13251.0</td>\n",
       "      <td>217.00</td>\n",
       "      <td>21.04975,105.74187</td>\n",
       "      <td>Hà Nội/UBND P. Minh Khai, Bắc Từ Liêm, Vietnam</td>\n",
       "      <td>https://aqicn.org/city/vietnam/ha-noi/ubnd-p.-...</td>\n",
       "      <td>pm25</td>\n",
       "      <td>12.00</td>\n",
       "      <td>NaN</td>\n",
       "      <td>77.0</td>\n",
       "      <td>65.00</td>\n",
       "      <td>...</td>\n",
       "      <td>1,015.00</td>\n",
       "      <td>194.00</td>\n",
       "      <td>217.00</td>\n",
       "      <td>2.00</td>\n",
       "      <td>18.0</td>\n",
       "      <td>1.5</td>\n",
       "      <td>2021-01-21 19:00:00</td>\n",
       "      <td>+07:00</td>\n",
       "      <td>#NAME?</td>\n",
       "      <td>#NAME?</td>\n",
       "    </tr>\n",
       "    <tr>\n",
       "      <th>6</th>\n",
       "      <td>12976.0</td>\n",
       "      <td>195.00</td>\n",
       "      <td>21.1137452,105.9268934</td>\n",
       "      <td>Bắc Ninh/Châu Khê, Vietnam</td>\n",
       "      <td>https://aqicn.org/city/vietnam/bac-ninh/chau-khe</td>\n",
       "      <td>pm25</td>\n",
       "      <td>8.00</td>\n",
       "      <td>NaN</td>\n",
       "      <td>77.0</td>\n",
       "      <td>17.00</td>\n",
       "      <td>...</td>\n",
       "      <td>1,015.00</td>\n",
       "      <td>119.00</td>\n",
       "      <td>195.00</td>\n",
       "      <td>3.00</td>\n",
       "      <td>18.0</td>\n",
       "      <td>1.5</td>\n",
       "      <td>2021-01-21 20:00:00</td>\n",
       "      <td>+07:00</td>\n",
       "      <td>#NAME?</td>\n",
       "      <td>#NAME?</td>\n",
       "    </tr>\n",
       "    <tr>\n",
       "      <th>7</th>\n",
       "      <td>13250.0</td>\n",
       "      <td>168.00</td>\n",
       "      <td>22.3221386,104.1214227</td>\n",
       "      <td>Lào Cai/KCN TALOONG1, Vietnam</td>\n",
       "      <td>https://aqicn.org/city/vietnam/lao-cai/kcn-tal...</td>\n",
       "      <td>pm25</td>\n",
       "      <td>37.00</td>\n",
       "      <td>NaN</td>\n",
       "      <td>70.3</td>\n",
       "      <td>2.00</td>\n",
       "      <td>...</td>\n",
       "      <td>1,003.20</td>\n",
       "      <td>65.00</td>\n",
       "      <td>168.00</td>\n",
       "      <td>17.00</td>\n",
       "      <td>18.5</td>\n",
       "      <td>1.0</td>\n",
       "      <td>2021-01-21 20:00:00</td>\n",
       "      <td>+07:00</td>\n",
       "      <td>#NAME?</td>\n",
       "      <td>#NAME?</td>\n",
       "    </tr>\n",
       "    <tr>\n",
       "      <th>8</th>\n",
       "      <td>5507.0</td>\n",
       "      <td>48.00</td>\n",
       "      <td>20.9416,107.1158</td>\n",
       "      <td>Ha Long, Vietnam (Tp Hạ Long)</td>\n",
       "      <td>https://aqicn.org/city/vietnam/ha-long</td>\n",
       "      <td>pm25</td>\n",
       "      <td>-</td>\n",
       "      <td>NaN</td>\n",
       "      <td>95.7</td>\n",
       "      <td>11.00</td>\n",
       "      <td>...</td>\n",
       "      <td>1,001.00</td>\n",
       "      <td>25.00</td>\n",
       "      <td>48.00</td>\n",
       "      <td>-</td>\n",
       "      <td>17.0</td>\n",
       "      <td>2.0</td>\n",
       "      <td>2021-01-21 19:00:00</td>\n",
       "      <td>+07:00</td>\n",
       "      <td>#NAME?</td>\n",
       "      <td>#NAME?</td>\n",
       "    </tr>\n",
       "    <tr>\n",
       "      <th>9</th>\n",
       "      <td>11778.0</td>\n",
       "      <td>18.00</td>\n",
       "      <td>21.0357507,106.7641068</td>\n",
       "      <td>Quảng Ninh/UBND TP Uông Bí, Vietnam</td>\n",
       "      <td>https://aqicn.org/city/vietnam/quang-ninh/ubnd...</td>\n",
       "      <td>pm25</td>\n",
       "      <td>5.00</td>\n",
       "      <td>NaN</td>\n",
       "      <td>97.5</td>\n",
       "      <td>5.00</td>\n",
       "      <td>...</td>\n",
       "      <td>1,002.00</td>\n",
       "      <td>12.00</td>\n",
       "      <td>18.00</td>\n",
       "      <td>3.00</td>\n",
       "      <td>15.4</td>\n",
       "      <td>1.0</td>\n",
       "      <td>2021-01-21 05:00:00</td>\n",
       "      <td>+07:00</td>\n",
       "      <td>#NAME?</td>\n",
       "      <td>#NAME?</td>\n",
       "    </tr>\n",
       "  </tbody>\n",
       "</table>\n",
       "<p>10 rows × 21 columns</p>\n",
       "</div>"
      ],
      "text/plain": [
       "   Station ID AQI index                Location  \\\n",
       "0      8767.0    102.00    10.782978,106.700711   \n",
       "1      8688.0    221.00  21.0811211,105.8180306   \n",
       "2      8641.0    281.00  21.0215063,105.8188748   \n",
       "3     13012.0     36.00    13.998599,107.996482   \n",
       "4     12488.0     68.00     16.46226,107.596351   \n",
       "5     13251.0    217.00      21.04975,105.74187   \n",
       "6     12976.0    195.00  21.1137452,105.9268934   \n",
       "7     13250.0    168.00  22.3221386,104.1214227   \n",
       "8      5507.0     48.00        20.9416,107.1158   \n",
       "9     11778.0     18.00  21.0357507,106.7641068   \n",
       "\n",
       "                                        Station name  \\\n",
       "0  Ho Chi Minh City US Consulate, Vietnam (Lãnh s...   \n",
       "1  United Nations International School of Hanoi, ...   \n",
       "2  Hanoi US Embassy, Vietnam (Đại sứ quán Mỹ, Hà ...   \n",
       "3        Gia Lai/phường Thống Nhất - Pleiku, Vietnam   \n",
       "4              Thừa Thiên Huế/83 Hùng Vương, Vietnam   \n",
       "5     Hà Nội/UBND P. Minh Khai, Bắc Từ Liêm, Vietnam   \n",
       "6                         Bắc Ninh/Châu Khê, Vietnam   \n",
       "7                      Lào Cai/KCN TALOONG1, Vietnam   \n",
       "8                      Ha Long, Vietnam (Tp Hạ Long)   \n",
       "9                Quảng Ninh/UBND TP Uông Bí, Vietnam   \n",
       "\n",
       "                                                 Url Dominent pollutant  \\\n",
       "0  https://aqicn.org/city/vietnam/ho-chi-minh-cit...               pm25   \n",
       "1          https://aqicn.org/city/vietnam/hanoi/unis                aqi   \n",
       "2    https://aqicn.org/city/vietnam/hanoi/us-embassy               pm25   \n",
       "3  https://aqicn.org/city/vietnam/gia-lai/phuong-...               pm25   \n",
       "4  https://aqicn.org/city/vietnam/thua-thien-hue/...               pm25   \n",
       "5  https://aqicn.org/city/vietnam/ha-noi/ubnd-p.-...               pm25   \n",
       "6   https://aqicn.org/city/vietnam/bac-ninh/chau-khe               pm25   \n",
       "7  https://aqicn.org/city/vietnam/lao-cai/kcn-tal...               pm25   \n",
       "8             https://aqicn.org/city/vietnam/ha-long               pm25   \n",
       "9  https://aqicn.org/city/vietnam/quang-ninh/ubnd...               pm25   \n",
       "\n",
       "      CO  Dew  Humidity    NO2  ...  Pressure    PM10   PM2.5    SO2  \\\n",
       "0      -  NaN      83.0      -  ...  1,009.00     NaN  102.00      -   \n",
       "1      -  NaN      77.0      -  ...  1,015.00     NaN       -      -   \n",
       "2   0.30  NaN      77.0   8.70  ...  1,015.00     NaN  281.00   2.10   \n",
       "3   3.00  NaN      60.2   6.00  ...    923.70   29.00   36.00   1.00   \n",
       "4   2.00  NaN      88.0      -  ...  1,015.00   52.00   68.00      -   \n",
       "5  12.00  NaN      77.0  65.00  ...  1,015.00  194.00  217.00   2.00   \n",
       "6   8.00  NaN      77.0  17.00  ...  1,015.00  119.00  195.00   3.00   \n",
       "7  37.00  NaN      70.3   2.00  ...  1,003.20   65.00  168.00  17.00   \n",
       "8      -  NaN      95.7  11.00  ...  1,001.00   25.00   48.00      -   \n",
       "9   5.00  NaN      97.5   5.00  ...  1,002.00   12.00   18.00   3.00   \n",
       "\n",
       "  Temperature  Wind          Data Time S Data Time Tz  Status Alert level  \n",
       "0        27.0   3.6  2021-01-21 19:00:00       +07:00  #NAME?      #NAME?  \n",
       "1        18.0   1.5  2021-01-21 20:00:00       +07:00  #NAME?      #NAME?  \n",
       "2        18.0   1.5  2021-01-21 20:00:00       +07:00  #NAME?      #NAME?  \n",
       "3        24.3   1.0  2021-01-21 20:00:00       +07:00  #NAME?      #NAME?  \n",
       "4        21.0   1.0  2021-01-21 19:00:00       +07:00  #NAME?      #NAME?  \n",
       "5        18.0   1.5  2021-01-21 19:00:00       +07:00  #NAME?      #NAME?  \n",
       "6        18.0   1.5  2021-01-21 20:00:00       +07:00  #NAME?      #NAME?  \n",
       "7        18.5   1.0  2021-01-21 20:00:00       +07:00  #NAME?      #NAME?  \n",
       "8        17.0   2.0  2021-01-21 19:00:00       +07:00  #NAME?      #NAME?  \n",
       "9        15.4   1.0  2021-01-21 05:00:00       +07:00  #NAME?      #NAME?  \n",
       "\n",
       "[10 rows x 21 columns]"
      ]
     },
     "execution_count": 3,
     "metadata": {},
     "output_type": "execute_result"
    }
   ],
   "source": [
    "df.head(10)"
   ]
  },
  {
   "cell_type": "code",
   "execution_count": 4,
   "id": "065bd742",
   "metadata": {
    "id": "065bd742"
   },
   "outputs": [],
   "source": [
    "#df.info()"
   ]
  },
  {
   "cell_type": "code",
   "execution_count": 5,
   "id": "dd798915",
   "metadata": {
    "id": "dd798915"
   },
   "outputs": [],
   "source": [
    "df.rename(columns={\"Station ID\":\"StationID\"},inplace = True)\n",
    "df.rename(columns={\"Station name\":\"StationName\"},inplace = True)\n",
    "df.rename(columns={\"Dominent pollutant\":\"DominentPollutant\"},inplace = True)\n",
    "df.rename(columns={\"Data Time Tz\":\"DataTimeTz\"},inplace = True)\n",
    "df.rename(columns={\"Data Time S\":\"DataTimeS\"},inplace = True)\n",
    "df.rename(columns={\"AQI index\":\"AQI\"},inplace = True)\n",
    "df.rename(columns={\"Alert level\":\"AlertLevel\"},inplace = True)\n",
    "#df.head()"
   ]
  },
  {
   "cell_type": "code",
   "execution_count": 6,
   "id": "4d5e84d6",
   "metadata": {
    "colab": {
     "base_uri": "https://localhost:8080/"
    },
    "id": "4d5e84d6",
    "outputId": "3df2a10d-4243-4cdf-a830-89f76c0f358e",
    "scrolled": false
   },
   "outputs": [
    {
     "name": "stdout",
     "output_type": "stream",
     "text": [
      "<class 'pandas.core.frame.DataFrame'>\n",
      "RangeIndex: 3415 entries, 0 to 3414\n",
      "Data columns (total 21 columns):\n",
      " #   Column             Non-Null Count  Dtype  \n",
      "---  ------             --------------  -----  \n",
      " 0   StationID          2622 non-null   float64\n",
      " 1   AQI                2618 non-null   object \n",
      " 2   Location           2622 non-null   object \n",
      " 3   StationName        2622 non-null   object \n",
      " 4   Url                2622 non-null   object \n",
      " 5   DominentPollutant  2114 non-null   object \n",
      " 6   CO                 2615 non-null   object \n",
      " 7   Dew                2263 non-null   float64\n",
      " 8   Humidity           2608 non-null   float64\n",
      " 9   NO2                2615 non-null   object \n",
      " 10  O3                 2608 non-null   object \n",
      " 11  Pressure           2608 non-null   object \n",
      " 12  PM10               2583 non-null   object \n",
      " 13  PM2.5              2614 non-null   object \n",
      " 14  SO2                2614 non-null   object \n",
      " 15  Temperature        2615 non-null   float64\n",
      " 16  Wind               2615 non-null   float64\n",
      " 17  DataTimeS          2622 non-null   object \n",
      " 18  DataTimeTz         2622 non-null   object \n",
      " 19  Status             2622 non-null   object \n",
      " 20  AlertLevel         2622 non-null   object \n",
      "dtypes: float64(5), object(16)\n",
      "memory usage: 560.4+ KB\n"
     ]
    }
   ],
   "source": [
    "df.info()"
   ]
  },
  {
   "cell_type": "code",
   "execution_count": 7,
   "id": "9a0fc31b",
   "metadata": {
    "id": "9a0fc31b"
   },
   "outputs": [],
   "source": [
    "#df.shape"
   ]
  },
  {
   "cell_type": "code",
   "execution_count": 8,
   "id": "d271e6bb",
   "metadata": {
    "id": "d271e6bb"
   },
   "outputs": [],
   "source": [
    "df.drop(['Url','Status','Location','DataTimeTz','SO2','O3','NO2','CO'],axis ='columns',inplace = True)\n",
    "# axis = 0, or ‘index’ : Drop rows which contain missing values.\n",
    "\n",
    "# axis = 1, or ‘columns’ : Drop columns which contain missing value.\n",
    "# inplace = True: việc xóa được thực hiện trên DataFrame hiện tại. \n",
    "# inplace = False: trả về một bản sao khi quá trình xóa được thực hiện."
   ]
  },
  {
   "cell_type": "code",
   "execution_count": 9,
   "id": "80c88637",
   "metadata": {
    "colab": {
     "base_uri": "https://localhost:8080/",
     "height": 600
    },
    "id": "80c88637",
    "outputId": "849d8ff4-68cb-4378-85ba-cd6805b282dd",
    "scrolled": true
   },
   "outputs": [
    {
     "data": {
      "text/html": [
       "<div>\n",
       "<style scoped>\n",
       "    .dataframe tbody tr th:only-of-type {\n",
       "        vertical-align: middle;\n",
       "    }\n",
       "\n",
       "    .dataframe tbody tr th {\n",
       "        vertical-align: top;\n",
       "    }\n",
       "\n",
       "    .dataframe thead th {\n",
       "        text-align: right;\n",
       "    }\n",
       "</style>\n",
       "<table border=\"1\" class=\"dataframe\">\n",
       "  <thead>\n",
       "    <tr style=\"text-align: right;\">\n",
       "      <th></th>\n",
       "      <th>StationID</th>\n",
       "      <th>AQI</th>\n",
       "      <th>StationName</th>\n",
       "      <th>DominentPollutant</th>\n",
       "      <th>Dew</th>\n",
       "      <th>Humidity</th>\n",
       "      <th>Pressure</th>\n",
       "      <th>PM10</th>\n",
       "      <th>PM2.5</th>\n",
       "      <th>Temperature</th>\n",
       "      <th>Wind</th>\n",
       "      <th>DataTimeS</th>\n",
       "      <th>AlertLevel</th>\n",
       "    </tr>\n",
       "  </thead>\n",
       "  <tbody>\n",
       "    <tr>\n",
       "      <th>0</th>\n",
       "      <td>8767.0</td>\n",
       "      <td>102.00</td>\n",
       "      <td>Ho Chi Minh City US Consulate, Vietnam (Lãnh s...</td>\n",
       "      <td>pm25</td>\n",
       "      <td>NaN</td>\n",
       "      <td>83.0</td>\n",
       "      <td>1,009.00</td>\n",
       "      <td>NaN</td>\n",
       "      <td>102.00</td>\n",
       "      <td>27.0</td>\n",
       "      <td>3.6</td>\n",
       "      <td>2021-01-21 19:00:00</td>\n",
       "      <td>#NAME?</td>\n",
       "    </tr>\n",
       "    <tr>\n",
       "      <th>1</th>\n",
       "      <td>8688.0</td>\n",
       "      <td>221.00</td>\n",
       "      <td>United Nations International School of Hanoi, ...</td>\n",
       "      <td>aqi</td>\n",
       "      <td>NaN</td>\n",
       "      <td>77.0</td>\n",
       "      <td>1,015.00</td>\n",
       "      <td>NaN</td>\n",
       "      <td>-</td>\n",
       "      <td>18.0</td>\n",
       "      <td>1.5</td>\n",
       "      <td>2021-01-21 20:00:00</td>\n",
       "      <td>#NAME?</td>\n",
       "    </tr>\n",
       "    <tr>\n",
       "      <th>2</th>\n",
       "      <td>8641.0</td>\n",
       "      <td>281.00</td>\n",
       "      <td>Hanoi US Embassy, Vietnam (Đại sứ quán Mỹ, Hà ...</td>\n",
       "      <td>pm25</td>\n",
       "      <td>NaN</td>\n",
       "      <td>77.0</td>\n",
       "      <td>1,015.00</td>\n",
       "      <td>NaN</td>\n",
       "      <td>281.00</td>\n",
       "      <td>18.0</td>\n",
       "      <td>1.5</td>\n",
       "      <td>2021-01-21 20:00:00</td>\n",
       "      <td>#NAME?</td>\n",
       "    </tr>\n",
       "    <tr>\n",
       "      <th>3</th>\n",
       "      <td>13012.0</td>\n",
       "      <td>36.00</td>\n",
       "      <td>Gia Lai/phường Thống Nhất - Pleiku, Vietnam</td>\n",
       "      <td>pm25</td>\n",
       "      <td>NaN</td>\n",
       "      <td>60.2</td>\n",
       "      <td>923.70</td>\n",
       "      <td>29.00</td>\n",
       "      <td>36.00</td>\n",
       "      <td>24.3</td>\n",
       "      <td>1.0</td>\n",
       "      <td>2021-01-21 20:00:00</td>\n",
       "      <td>#NAME?</td>\n",
       "    </tr>\n",
       "    <tr>\n",
       "      <th>4</th>\n",
       "      <td>12488.0</td>\n",
       "      <td>68.00</td>\n",
       "      <td>Thừa Thiên Huế/83 Hùng Vương, Vietnam</td>\n",
       "      <td>pm25</td>\n",
       "      <td>NaN</td>\n",
       "      <td>88.0</td>\n",
       "      <td>1,015.00</td>\n",
       "      <td>52.00</td>\n",
       "      <td>68.00</td>\n",
       "      <td>21.0</td>\n",
       "      <td>1.0</td>\n",
       "      <td>2021-01-21 19:00:00</td>\n",
       "      <td>#NAME?</td>\n",
       "    </tr>\n",
       "  </tbody>\n",
       "</table>\n",
       "</div>"
      ],
      "text/plain": [
       "   StationID     AQI                                        StationName  \\\n",
       "0     8767.0  102.00  Ho Chi Minh City US Consulate, Vietnam (Lãnh s...   \n",
       "1     8688.0  221.00  United Nations International School of Hanoi, ...   \n",
       "2     8641.0  281.00  Hanoi US Embassy, Vietnam (Đại sứ quán Mỹ, Hà ...   \n",
       "3    13012.0   36.00        Gia Lai/phường Thống Nhất - Pleiku, Vietnam   \n",
       "4    12488.0   68.00              Thừa Thiên Huế/83 Hùng Vương, Vietnam   \n",
       "\n",
       "  DominentPollutant  Dew  Humidity  Pressure   PM10   PM2.5  Temperature  \\\n",
       "0              pm25  NaN      83.0  1,009.00    NaN  102.00         27.0   \n",
       "1               aqi  NaN      77.0  1,015.00    NaN       -         18.0   \n",
       "2              pm25  NaN      77.0  1,015.00    NaN  281.00         18.0   \n",
       "3              pm25  NaN      60.2    923.70  29.00   36.00         24.3   \n",
       "4              pm25  NaN      88.0  1,015.00  52.00   68.00         21.0   \n",
       "\n",
       "   Wind            DataTimeS AlertLevel  \n",
       "0   3.6  2021-01-21 19:00:00     #NAME?  \n",
       "1   1.5  2021-01-21 20:00:00     #NAME?  \n",
       "2   1.5  2021-01-21 20:00:00     #NAME?  \n",
       "3   1.0  2021-01-21 20:00:00     #NAME?  \n",
       "4   1.0  2021-01-21 19:00:00     #NAME?  "
      ]
     },
     "execution_count": 9,
     "metadata": {},
     "output_type": "execute_result"
    }
   ],
   "source": [
    "df.head()"
   ]
  },
  {
   "cell_type": "code",
   "execution_count": 10,
   "id": "fd94c1c7",
   "metadata": {
    "colab": {
     "base_uri": "https://localhost:8080/",
     "height": 1000
    },
    "id": "fd94c1c7",
    "outputId": "dee66191-94d6-40be-fe3e-5111b87b30c6"
   },
   "outputs": [
    {
     "data": {
      "text/html": [
       "<div>\n",
       "<style scoped>\n",
       "    .dataframe tbody tr th:only-of-type {\n",
       "        vertical-align: middle;\n",
       "    }\n",
       "\n",
       "    .dataframe tbody tr th {\n",
       "        vertical-align: top;\n",
       "    }\n",
       "\n",
       "    .dataframe thead th {\n",
       "        text-align: right;\n",
       "    }\n",
       "</style>\n",
       "<table border=\"1\" class=\"dataframe\">\n",
       "  <thead>\n",
       "    <tr style=\"text-align: right;\">\n",
       "      <th></th>\n",
       "      <th>StationID</th>\n",
       "      <th>AQI</th>\n",
       "      <th>StationName</th>\n",
       "      <th>DominentPollutant</th>\n",
       "      <th>Dew</th>\n",
       "      <th>Humidity</th>\n",
       "      <th>Pressure</th>\n",
       "      <th>PM10</th>\n",
       "      <th>PM2.5</th>\n",
       "      <th>Temperature</th>\n",
       "      <th>Wind</th>\n",
       "      <th>DataTimeS</th>\n",
       "      <th>AlertLevel</th>\n",
       "    </tr>\n",
       "  </thead>\n",
       "  <tbody>\n",
       "    <tr>\n",
       "      <th>0</th>\n",
       "      <td>8767.0</td>\n",
       "      <td>102.00</td>\n",
       "      <td>Ho Chi Minh City US Consulate, Vietnam (Lãnh s...</td>\n",
       "      <td>pm25</td>\n",
       "      <td>NaN</td>\n",
       "      <td>83.0</td>\n",
       "      <td>1,009.00</td>\n",
       "      <td>NaN</td>\n",
       "      <td>102.00</td>\n",
       "      <td>27.0</td>\n",
       "      <td>3.6</td>\n",
       "      <td>2021-01-21 19:00:00</td>\n",
       "      <td>#NAME?</td>\n",
       "    </tr>\n",
       "    <tr>\n",
       "      <th>23</th>\n",
       "      <td>8767.0</td>\n",
       "      <td>122.00</td>\n",
       "      <td>Ho Chi Minh City US Consulate, Vietnam (Lãnh s...</td>\n",
       "      <td>pm25</td>\n",
       "      <td>NaN</td>\n",
       "      <td>56.5</td>\n",
       "      <td>1,008.50</td>\n",
       "      <td>NaN</td>\n",
       "      <td>122.00</td>\n",
       "      <td>30.5</td>\n",
       "      <td>2.5</td>\n",
       "      <td>2021-01-22 13:00:00</td>\n",
       "      <td>#NAME?</td>\n",
       "    </tr>\n",
       "    <tr>\n",
       "      <th>46</th>\n",
       "      <td>8767.0</td>\n",
       "      <td>114.00</td>\n",
       "      <td>Ho Chi Minh City US Consulate, Vietnam (Lãnh s...</td>\n",
       "      <td>pm25</td>\n",
       "      <td>NaN</td>\n",
       "      <td>49.0</td>\n",
       "      <td>1,007.00</td>\n",
       "      <td>NaN</td>\n",
       "      <td>114.00</td>\n",
       "      <td>32.0</td>\n",
       "      <td>1.5</td>\n",
       "      <td>2021-01-23 15:00:00</td>\n",
       "      <td>#NAME?</td>\n",
       "    </tr>\n",
       "    <tr>\n",
       "      <th>69</th>\n",
       "      <td>8767.0</td>\n",
       "      <td>80.00</td>\n",
       "      <td>Ho Chi Minh City US Consulate, Vietnam (Lãnh s...</td>\n",
       "      <td>pm25</td>\n",
       "      <td>NaN</td>\n",
       "      <td>74.0</td>\n",
       "      <td>1,009.00</td>\n",
       "      <td>NaN</td>\n",
       "      <td>80.00</td>\n",
       "      <td>27.0</td>\n",
       "      <td>4.1</td>\n",
       "      <td>2021-01-25 19:00:00</td>\n",
       "      <td>#NAME?</td>\n",
       "    </tr>\n",
       "    <tr>\n",
       "      <th>92</th>\n",
       "      <td>8767.0</td>\n",
       "      <td>137.00</td>\n",
       "      <td>Ho Chi Minh City US Consulate, Vietnam (Lãnh s...</td>\n",
       "      <td>pm25</td>\n",
       "      <td>NaN</td>\n",
       "      <td>62.0</td>\n",
       "      <td>1,007.00</td>\n",
       "      <td>NaN</td>\n",
       "      <td>137.00</td>\n",
       "      <td>31.0</td>\n",
       "      <td>5.1</td>\n",
       "      <td>2021-01-26 16:00:00</td>\n",
       "      <td>#NAME?</td>\n",
       "    </tr>\n",
       "    <tr>\n",
       "      <th>...</th>\n",
       "      <td>...</td>\n",
       "      <td>...</td>\n",
       "      <td>...</td>\n",
       "      <td>...</td>\n",
       "      <td>...</td>\n",
       "      <td>...</td>\n",
       "      <td>...</td>\n",
       "      <td>...</td>\n",
       "      <td>...</td>\n",
       "      <td>...</td>\n",
       "      <td>...</td>\n",
       "      <td>...</td>\n",
       "      <td>...</td>\n",
       "    </tr>\n",
       "    <tr>\n",
       "      <th>2507</th>\n",
       "      <td>8767.0</td>\n",
       "      <td>97.00</td>\n",
       "      <td>Ho Chi Minh City US Consulate, Vietnam (Lãnh s...</td>\n",
       "      <td>pm25</td>\n",
       "      <td>24.0</td>\n",
       "      <td>66.0</td>\n",
       "      <td>1,010.00</td>\n",
       "      <td>-</td>\n",
       "      <td>97.00</td>\n",
       "      <td>31.0</td>\n",
       "      <td>2.8</td>\n",
       "      <td>2021-11-10 10:00:00</td>\n",
       "      <td>#NAME?</td>\n",
       "    </tr>\n",
       "    <tr>\n",
       "      <th>2530</th>\n",
       "      <td>8767.0</td>\n",
       "      <td>65.00</td>\n",
       "      <td>Ho Chi Minh City US Consulate, Vietnam (Lãnh s...</td>\n",
       "      <td>pm25</td>\n",
       "      <td>24.0</td>\n",
       "      <td>66.0</td>\n",
       "      <td>1,008.50</td>\n",
       "      <td>-</td>\n",
       "      <td>65.00</td>\n",
       "      <td>31.0</td>\n",
       "      <td>3.6</td>\n",
       "      <td>2021-11-16 12:00:00</td>\n",
       "      <td>#NAME?</td>\n",
       "    </tr>\n",
       "    <tr>\n",
       "      <th>2553</th>\n",
       "      <td>8767.0</td>\n",
       "      <td>114.00</td>\n",
       "      <td>Ho Chi Minh City US Consulate, Vietnam (Lãnh s...</td>\n",
       "      <td>pm25</td>\n",
       "      <td>25.0</td>\n",
       "      <td>79.0</td>\n",
       "      <td>1,009.00</td>\n",
       "      <td>-</td>\n",
       "      <td>114.00</td>\n",
       "      <td>29.0</td>\n",
       "      <td>1.5</td>\n",
       "      <td>2021-11-20 09:00:00</td>\n",
       "      <td>#NAME?</td>\n",
       "    </tr>\n",
       "    <tr>\n",
       "      <th>2576</th>\n",
       "      <td>8767.0</td>\n",
       "      <td>89.00</td>\n",
       "      <td>Ho Chi Minh City US Consulate, Vietnam (Lãnh s...</td>\n",
       "      <td>pm25</td>\n",
       "      <td>20.5</td>\n",
       "      <td>69.0</td>\n",
       "      <td>1,011.00</td>\n",
       "      <td>-</td>\n",
       "      <td>89.00</td>\n",
       "      <td>26.5</td>\n",
       "      <td>3.0</td>\n",
       "      <td>2021-11-26 09:00:00</td>\n",
       "      <td>#NAME?</td>\n",
       "    </tr>\n",
       "    <tr>\n",
       "      <th>2599</th>\n",
       "      <td>8767.0</td>\n",
       "      <td>93.00</td>\n",
       "      <td>Ho Chi Minh City US Consulate, Vietnam (Lãnh s...</td>\n",
       "      <td>pm25</td>\n",
       "      <td>25.5</td>\n",
       "      <td>85.5</td>\n",
       "      <td>1,006.00</td>\n",
       "      <td>-</td>\n",
       "      <td>93.00</td>\n",
       "      <td>28.0</td>\n",
       "      <td>1.0</td>\n",
       "      <td>2021-11-29 14:00:00</td>\n",
       "      <td>#NAME?</td>\n",
       "    </tr>\n",
       "  </tbody>\n",
       "</table>\n",
       "<p>114 rows × 13 columns</p>\n",
       "</div>"
      ],
      "text/plain": [
       "      StationID     AQI                                        StationName  \\\n",
       "0        8767.0  102.00  Ho Chi Minh City US Consulate, Vietnam (Lãnh s...   \n",
       "23       8767.0  122.00  Ho Chi Minh City US Consulate, Vietnam (Lãnh s...   \n",
       "46       8767.0  114.00  Ho Chi Minh City US Consulate, Vietnam (Lãnh s...   \n",
       "69       8767.0   80.00  Ho Chi Minh City US Consulate, Vietnam (Lãnh s...   \n",
       "92       8767.0  137.00  Ho Chi Minh City US Consulate, Vietnam (Lãnh s...   \n",
       "...         ...     ...                                                ...   \n",
       "2507     8767.0   97.00  Ho Chi Minh City US Consulate, Vietnam (Lãnh s...   \n",
       "2530     8767.0   65.00  Ho Chi Minh City US Consulate, Vietnam (Lãnh s...   \n",
       "2553     8767.0  114.00  Ho Chi Minh City US Consulate, Vietnam (Lãnh s...   \n",
       "2576     8767.0   89.00  Ho Chi Minh City US Consulate, Vietnam (Lãnh s...   \n",
       "2599     8767.0   93.00  Ho Chi Minh City US Consulate, Vietnam (Lãnh s...   \n",
       "\n",
       "     DominentPollutant   Dew  Humidity  Pressure PM10   PM2.5  Temperature  \\\n",
       "0                 pm25   NaN      83.0  1,009.00  NaN  102.00         27.0   \n",
       "23                pm25   NaN      56.5  1,008.50  NaN  122.00         30.5   \n",
       "46                pm25   NaN      49.0  1,007.00  NaN  114.00         32.0   \n",
       "69                pm25   NaN      74.0  1,009.00  NaN   80.00         27.0   \n",
       "92                pm25   NaN      62.0  1,007.00  NaN  137.00         31.0   \n",
       "...                ...   ...       ...       ...  ...     ...          ...   \n",
       "2507              pm25  24.0      66.0  1,010.00    -   97.00         31.0   \n",
       "2530              pm25  24.0      66.0  1,008.50    -   65.00         31.0   \n",
       "2553              pm25  25.0      79.0  1,009.00    -  114.00         29.0   \n",
       "2576              pm25  20.5      69.0  1,011.00    -   89.00         26.5   \n",
       "2599              pm25  25.5      85.5  1,006.00    -   93.00         28.0   \n",
       "\n",
       "      Wind            DataTimeS AlertLevel  \n",
       "0      3.6  2021-01-21 19:00:00     #NAME?  \n",
       "23     2.5  2021-01-22 13:00:00     #NAME?  \n",
       "46     1.5  2021-01-23 15:00:00     #NAME?  \n",
       "69     4.1  2021-01-25 19:00:00     #NAME?  \n",
       "92     5.1  2021-01-26 16:00:00     #NAME?  \n",
       "...    ...                  ...        ...  \n",
       "2507   2.8  2021-11-10 10:00:00     #NAME?  \n",
       "2530   3.6  2021-11-16 12:00:00     #NAME?  \n",
       "2553   1.5  2021-11-20 09:00:00     #NAME?  \n",
       "2576   3.0  2021-11-26 09:00:00     #NAME?  \n",
       "2599   1.0  2021-11-29 14:00:00     #NAME?  \n",
       "\n",
       "[114 rows x 13 columns]"
      ]
     },
     "execution_count": 10,
     "metadata": {},
     "output_type": "execute_result"
    }
   ],
   "source": [
    "tphcm=df[df.StationID == 8767.0]\n",
    "tphcm"
   ]
  },
  {
   "cell_type": "code",
   "execution_count": 11,
   "id": "756923ba",
   "metadata": {
    "colab": {
     "base_uri": "https://localhost:8080/"
    },
    "id": "756923ba",
    "outputId": "0093c158-47d7-420f-a101-00e165afa017",
    "scrolled": false
   },
   "outputs": [
    {
     "name": "stdout",
     "output_type": "stream",
     "text": [
      "<class 'pandas.core.frame.DataFrame'>\n",
      "Int64Index: 114 entries, 0 to 2599\n",
      "Data columns (total 13 columns):\n",
      " #   Column             Non-Null Count  Dtype  \n",
      "---  ------             --------------  -----  \n",
      " 0   StationID          114 non-null    float64\n",
      " 1   AQI                114 non-null    object \n",
      " 2   StationName        114 non-null    object \n",
      " 3   DominentPollutant  114 non-null    object \n",
      " 4   Dew                99 non-null     float64\n",
      " 5   Humidity           114 non-null    float64\n",
      " 6   Pressure           114 non-null    object \n",
      " 7   PM10               106 non-null    object \n",
      " 8   PM2.5              114 non-null    object \n",
      " 9   Temperature        114 non-null    float64\n",
      " 10  Wind               114 non-null    float64\n",
      " 11  DataTimeS          114 non-null    object \n",
      " 12  AlertLevel         114 non-null    object \n",
      "dtypes: float64(5), object(8)\n",
      "memory usage: 12.5+ KB\n"
     ]
    }
   ],
   "source": [
    "tphcm.info()"
   ]
  },
  {
   "cell_type": "code",
   "execution_count": 12,
   "id": "8e746a7d",
   "metadata": {
    "colab": {
     "base_uri": "https://localhost:8080/",
     "height": 156
    },
    "id": "8e746a7d",
    "outputId": "393d9772-8bec-4405-cd6f-592ae8860ced",
    "scrolled": false
   },
   "outputs": [
    {
     "data": {
      "text/html": [
       "<div>\n",
       "<style scoped>\n",
       "    .dataframe tbody tr th:only-of-type {\n",
       "        vertical-align: middle;\n",
       "    }\n",
       "\n",
       "    .dataframe tbody tr th {\n",
       "        vertical-align: top;\n",
       "    }\n",
       "\n",
       "    .dataframe thead th {\n",
       "        text-align: right;\n",
       "    }\n",
       "</style>\n",
       "<table border=\"1\" class=\"dataframe\">\n",
       "  <thead>\n",
       "    <tr style=\"text-align: right;\">\n",
       "      <th></th>\n",
       "      <th>StationID</th>\n",
       "      <th>AQI</th>\n",
       "      <th>StationName</th>\n",
       "      <th>Dew</th>\n",
       "      <th>Humidity</th>\n",
       "      <th>Pressure</th>\n",
       "      <th>PM10</th>\n",
       "      <th>PM2.5</th>\n",
       "      <th>Temperature</th>\n",
       "      <th>Wind</th>\n",
       "      <th>DataTimeS</th>\n",
       "      <th>AlertLevel</th>\n",
       "    </tr>\n",
       "    <tr>\n",
       "      <th>DominentPollutant</th>\n",
       "      <th></th>\n",
       "      <th></th>\n",
       "      <th></th>\n",
       "      <th></th>\n",
       "      <th></th>\n",
       "      <th></th>\n",
       "      <th></th>\n",
       "      <th></th>\n",
       "      <th></th>\n",
       "      <th></th>\n",
       "      <th></th>\n",
       "      <th></th>\n",
       "    </tr>\n",
       "  </thead>\n",
       "  <tbody>\n",
       "    <tr>\n",
       "      <th>pm25</th>\n",
       "      <td>114</td>\n",
       "      <td>114</td>\n",
       "      <td>114</td>\n",
       "      <td>99</td>\n",
       "      <td>114</td>\n",
       "      <td>114</td>\n",
       "      <td>106</td>\n",
       "      <td>114</td>\n",
       "      <td>114</td>\n",
       "      <td>114</td>\n",
       "      <td>114</td>\n",
       "      <td>114</td>\n",
       "    </tr>\n",
       "  </tbody>\n",
       "</table>\n",
       "</div>"
      ],
      "text/plain": [
       "                   StationID  AQI  StationName  Dew  Humidity  Pressure  PM10  \\\n",
       "DominentPollutant                                                               \n",
       "pm25                     114  114          114   99       114       114   106   \n",
       "\n",
       "                   PM2.5  Temperature  Wind  DataTimeS  AlertLevel  \n",
       "DominentPollutant                                                   \n",
       "pm25                 114          114   114        114         114  "
      ]
     },
     "execution_count": 12,
     "metadata": {},
     "output_type": "execute_result"
    }
   ],
   "source": [
    "tphcm.groupby(['DominentPollutant']).count()"
   ]
  },
  {
   "cell_type": "code",
   "execution_count": 13,
   "id": "1377441c",
   "metadata": {
    "colab": {
     "base_uri": "https://localhost:8080/",
     "height": 423
    },
    "id": "1377441c",
    "outputId": "32404400-3cc2-4f73-a7ae-8a8ef48ccbe9"
   },
   "outputs": [
    {
     "data": {
      "text/html": [
       "<div>\n",
       "<style scoped>\n",
       "    .dataframe tbody tr th:only-of-type {\n",
       "        vertical-align: middle;\n",
       "    }\n",
       "\n",
       "    .dataframe tbody tr th {\n",
       "        vertical-align: top;\n",
       "    }\n",
       "\n",
       "    .dataframe thead th {\n",
       "        text-align: right;\n",
       "    }\n",
       "</style>\n",
       "<table border=\"1\" class=\"dataframe\">\n",
       "  <thead>\n",
       "    <tr style=\"text-align: right;\">\n",
       "      <th></th>\n",
       "      <th>AQI</th>\n",
       "      <th>Dew</th>\n",
       "      <th>Humidity</th>\n",
       "      <th>Pressure</th>\n",
       "      <th>Temperature</th>\n",
       "      <th>Wind</th>\n",
       "      <th>DataTimeS</th>\n",
       "      <th>AlertLevel</th>\n",
       "    </tr>\n",
       "  </thead>\n",
       "  <tbody>\n",
       "    <tr>\n",
       "      <th>0</th>\n",
       "      <td>102.00</td>\n",
       "      <td>NaN</td>\n",
       "      <td>83.0</td>\n",
       "      <td>1,009.00</td>\n",
       "      <td>27.0</td>\n",
       "      <td>3.6</td>\n",
       "      <td>2021-01-21 19:00:00</td>\n",
       "      <td>#NAME?</td>\n",
       "    </tr>\n",
       "    <tr>\n",
       "      <th>23</th>\n",
       "      <td>122.00</td>\n",
       "      <td>NaN</td>\n",
       "      <td>56.5</td>\n",
       "      <td>1,008.50</td>\n",
       "      <td>30.5</td>\n",
       "      <td>2.5</td>\n",
       "      <td>2021-01-22 13:00:00</td>\n",
       "      <td>#NAME?</td>\n",
       "    </tr>\n",
       "    <tr>\n",
       "      <th>46</th>\n",
       "      <td>114.00</td>\n",
       "      <td>NaN</td>\n",
       "      <td>49.0</td>\n",
       "      <td>1,007.00</td>\n",
       "      <td>32.0</td>\n",
       "      <td>1.5</td>\n",
       "      <td>2021-01-23 15:00:00</td>\n",
       "      <td>#NAME?</td>\n",
       "    </tr>\n",
       "    <tr>\n",
       "      <th>69</th>\n",
       "      <td>80.00</td>\n",
       "      <td>NaN</td>\n",
       "      <td>74.0</td>\n",
       "      <td>1,009.00</td>\n",
       "      <td>27.0</td>\n",
       "      <td>4.1</td>\n",
       "      <td>2021-01-25 19:00:00</td>\n",
       "      <td>#NAME?</td>\n",
       "    </tr>\n",
       "    <tr>\n",
       "      <th>92</th>\n",
       "      <td>137.00</td>\n",
       "      <td>NaN</td>\n",
       "      <td>62.0</td>\n",
       "      <td>1,007.00</td>\n",
       "      <td>31.0</td>\n",
       "      <td>5.1</td>\n",
       "      <td>2021-01-26 16:00:00</td>\n",
       "      <td>#NAME?</td>\n",
       "    </tr>\n",
       "    <tr>\n",
       "      <th>...</th>\n",
       "      <td>...</td>\n",
       "      <td>...</td>\n",
       "      <td>...</td>\n",
       "      <td>...</td>\n",
       "      <td>...</td>\n",
       "      <td>...</td>\n",
       "      <td>...</td>\n",
       "      <td>...</td>\n",
       "    </tr>\n",
       "    <tr>\n",
       "      <th>2507</th>\n",
       "      <td>97.00</td>\n",
       "      <td>24.0</td>\n",
       "      <td>66.0</td>\n",
       "      <td>1,010.00</td>\n",
       "      <td>31.0</td>\n",
       "      <td>2.8</td>\n",
       "      <td>2021-11-10 10:00:00</td>\n",
       "      <td>#NAME?</td>\n",
       "    </tr>\n",
       "    <tr>\n",
       "      <th>2530</th>\n",
       "      <td>65.00</td>\n",
       "      <td>24.0</td>\n",
       "      <td>66.0</td>\n",
       "      <td>1,008.50</td>\n",
       "      <td>31.0</td>\n",
       "      <td>3.6</td>\n",
       "      <td>2021-11-16 12:00:00</td>\n",
       "      <td>#NAME?</td>\n",
       "    </tr>\n",
       "    <tr>\n",
       "      <th>2553</th>\n",
       "      <td>114.00</td>\n",
       "      <td>25.0</td>\n",
       "      <td>79.0</td>\n",
       "      <td>1,009.00</td>\n",
       "      <td>29.0</td>\n",
       "      <td>1.5</td>\n",
       "      <td>2021-11-20 09:00:00</td>\n",
       "      <td>#NAME?</td>\n",
       "    </tr>\n",
       "    <tr>\n",
       "      <th>2576</th>\n",
       "      <td>89.00</td>\n",
       "      <td>20.5</td>\n",
       "      <td>69.0</td>\n",
       "      <td>1,011.00</td>\n",
       "      <td>26.5</td>\n",
       "      <td>3.0</td>\n",
       "      <td>2021-11-26 09:00:00</td>\n",
       "      <td>#NAME?</td>\n",
       "    </tr>\n",
       "    <tr>\n",
       "      <th>2599</th>\n",
       "      <td>93.00</td>\n",
       "      <td>25.5</td>\n",
       "      <td>85.5</td>\n",
       "      <td>1,006.00</td>\n",
       "      <td>28.0</td>\n",
       "      <td>1.0</td>\n",
       "      <td>2021-11-29 14:00:00</td>\n",
       "      <td>#NAME?</td>\n",
       "    </tr>\n",
       "  </tbody>\n",
       "</table>\n",
       "<p>114 rows × 8 columns</p>\n",
       "</div>"
      ],
      "text/plain": [
       "         AQI   Dew  Humidity  Pressure  Temperature  Wind  \\\n",
       "0     102.00   NaN      83.0  1,009.00         27.0   3.6   \n",
       "23    122.00   NaN      56.5  1,008.50         30.5   2.5   \n",
       "46    114.00   NaN      49.0  1,007.00         32.0   1.5   \n",
       "69     80.00   NaN      74.0  1,009.00         27.0   4.1   \n",
       "92    137.00   NaN      62.0  1,007.00         31.0   5.1   \n",
       "...      ...   ...       ...       ...          ...   ...   \n",
       "2507   97.00  24.0      66.0  1,010.00         31.0   2.8   \n",
       "2530   65.00  24.0      66.0  1,008.50         31.0   3.6   \n",
       "2553  114.00  25.0      79.0  1,009.00         29.0   1.5   \n",
       "2576   89.00  20.5      69.0  1,011.00         26.5   3.0   \n",
       "2599   93.00  25.5      85.5  1,006.00         28.0   1.0   \n",
       "\n",
       "                DataTimeS AlertLevel  \n",
       "0     2021-01-21 19:00:00     #NAME?  \n",
       "23    2021-01-22 13:00:00     #NAME?  \n",
       "46    2021-01-23 15:00:00     #NAME?  \n",
       "69    2021-01-25 19:00:00     #NAME?  \n",
       "92    2021-01-26 16:00:00     #NAME?  \n",
       "...                   ...        ...  \n",
       "2507  2021-11-10 10:00:00     #NAME?  \n",
       "2530  2021-11-16 12:00:00     #NAME?  \n",
       "2553  2021-11-20 09:00:00     #NAME?  \n",
       "2576  2021-11-26 09:00:00     #NAME?  \n",
       "2599  2021-11-29 14:00:00     #NAME?  \n",
       "\n",
       "[114 rows x 8 columns]"
      ]
     },
     "execution_count": 13,
     "metadata": {},
     "output_type": "execute_result"
    }
   ],
   "source": [
    "new_tphcm = tphcm.drop(['DominentPollutant','PM10','PM2.5','StationName','StationID'],axis=1)\n",
    "new_tphcm"
   ]
  },
  {
   "cell_type": "code",
   "execution_count": 14,
   "id": "4543d940",
   "metadata": {
    "colab": {
     "base_uri": "https://localhost:8080/",
     "height": 423
    },
    "id": "4543d940",
    "outputId": "23112813-5bf9-438a-a9c6-460312984f82",
    "scrolled": true
   },
   "outputs": [
    {
     "data": {
      "text/html": [
       "<div>\n",
       "<style scoped>\n",
       "    .dataframe tbody tr th:only-of-type {\n",
       "        vertical-align: middle;\n",
       "    }\n",
       "\n",
       "    .dataframe tbody tr th {\n",
       "        vertical-align: top;\n",
       "    }\n",
       "\n",
       "    .dataframe thead th {\n",
       "        text-align: right;\n",
       "    }\n",
       "</style>\n",
       "<table border=\"1\" class=\"dataframe\">\n",
       "  <thead>\n",
       "    <tr style=\"text-align: right;\">\n",
       "      <th></th>\n",
       "      <th>AQI</th>\n",
       "      <th>Dew</th>\n",
       "      <th>Humidity</th>\n",
       "      <th>Pressure</th>\n",
       "      <th>Temperature</th>\n",
       "      <th>Wind</th>\n",
       "      <th>DataTimeS</th>\n",
       "      <th>AlertLevel</th>\n",
       "    </tr>\n",
       "  </thead>\n",
       "  <tbody>\n",
       "    <tr>\n",
       "      <th>0</th>\n",
       "      <td>102.00</td>\n",
       "      <td>NaN</td>\n",
       "      <td>83.0</td>\n",
       "      <td>1,009.00</td>\n",
       "      <td>27.0</td>\n",
       "      <td>3.6</td>\n",
       "      <td>2021-01-21 19:00:00</td>\n",
       "      <td>#NAME?</td>\n",
       "    </tr>\n",
       "    <tr>\n",
       "      <th>1</th>\n",
       "      <td>122.00</td>\n",
       "      <td>NaN</td>\n",
       "      <td>56.5</td>\n",
       "      <td>1,008.50</td>\n",
       "      <td>30.5</td>\n",
       "      <td>2.5</td>\n",
       "      <td>2021-01-22 13:00:00</td>\n",
       "      <td>#NAME?</td>\n",
       "    </tr>\n",
       "    <tr>\n",
       "      <th>2</th>\n",
       "      <td>114.00</td>\n",
       "      <td>NaN</td>\n",
       "      <td>49.0</td>\n",
       "      <td>1,007.00</td>\n",
       "      <td>32.0</td>\n",
       "      <td>1.5</td>\n",
       "      <td>2021-01-23 15:00:00</td>\n",
       "      <td>#NAME?</td>\n",
       "    </tr>\n",
       "    <tr>\n",
       "      <th>3</th>\n",
       "      <td>80.00</td>\n",
       "      <td>NaN</td>\n",
       "      <td>74.0</td>\n",
       "      <td>1,009.00</td>\n",
       "      <td>27.0</td>\n",
       "      <td>4.1</td>\n",
       "      <td>2021-01-25 19:00:00</td>\n",
       "      <td>#NAME?</td>\n",
       "    </tr>\n",
       "    <tr>\n",
       "      <th>4</th>\n",
       "      <td>137.00</td>\n",
       "      <td>NaN</td>\n",
       "      <td>62.0</td>\n",
       "      <td>1,007.00</td>\n",
       "      <td>31.0</td>\n",
       "      <td>5.1</td>\n",
       "      <td>2021-01-26 16:00:00</td>\n",
       "      <td>#NAME?</td>\n",
       "    </tr>\n",
       "    <tr>\n",
       "      <th>...</th>\n",
       "      <td>...</td>\n",
       "      <td>...</td>\n",
       "      <td>...</td>\n",
       "      <td>...</td>\n",
       "      <td>...</td>\n",
       "      <td>...</td>\n",
       "      <td>...</td>\n",
       "      <td>...</td>\n",
       "    </tr>\n",
       "    <tr>\n",
       "      <th>109</th>\n",
       "      <td>97.00</td>\n",
       "      <td>24.0</td>\n",
       "      <td>66.0</td>\n",
       "      <td>1,010.00</td>\n",
       "      <td>31.0</td>\n",
       "      <td>2.8</td>\n",
       "      <td>2021-11-10 10:00:00</td>\n",
       "      <td>#NAME?</td>\n",
       "    </tr>\n",
       "    <tr>\n",
       "      <th>110</th>\n",
       "      <td>65.00</td>\n",
       "      <td>24.0</td>\n",
       "      <td>66.0</td>\n",
       "      <td>1,008.50</td>\n",
       "      <td>31.0</td>\n",
       "      <td>3.6</td>\n",
       "      <td>2021-11-16 12:00:00</td>\n",
       "      <td>#NAME?</td>\n",
       "    </tr>\n",
       "    <tr>\n",
       "      <th>111</th>\n",
       "      <td>114.00</td>\n",
       "      <td>25.0</td>\n",
       "      <td>79.0</td>\n",
       "      <td>1,009.00</td>\n",
       "      <td>29.0</td>\n",
       "      <td>1.5</td>\n",
       "      <td>2021-11-20 09:00:00</td>\n",
       "      <td>#NAME?</td>\n",
       "    </tr>\n",
       "    <tr>\n",
       "      <th>112</th>\n",
       "      <td>89.00</td>\n",
       "      <td>20.5</td>\n",
       "      <td>69.0</td>\n",
       "      <td>1,011.00</td>\n",
       "      <td>26.5</td>\n",
       "      <td>3.0</td>\n",
       "      <td>2021-11-26 09:00:00</td>\n",
       "      <td>#NAME?</td>\n",
       "    </tr>\n",
       "    <tr>\n",
       "      <th>113</th>\n",
       "      <td>93.00</td>\n",
       "      <td>25.5</td>\n",
       "      <td>85.5</td>\n",
       "      <td>1,006.00</td>\n",
       "      <td>28.0</td>\n",
       "      <td>1.0</td>\n",
       "      <td>2021-11-29 14:00:00</td>\n",
       "      <td>#NAME?</td>\n",
       "    </tr>\n",
       "  </tbody>\n",
       "</table>\n",
       "<p>114 rows × 8 columns</p>\n",
       "</div>"
      ],
      "text/plain": [
       "        AQI   Dew  Humidity  Pressure  Temperature  Wind            DataTimeS  \\\n",
       "0    102.00   NaN      83.0  1,009.00         27.0   3.6  2021-01-21 19:00:00   \n",
       "1    122.00   NaN      56.5  1,008.50         30.5   2.5  2021-01-22 13:00:00   \n",
       "2    114.00   NaN      49.0  1,007.00         32.0   1.5  2021-01-23 15:00:00   \n",
       "3     80.00   NaN      74.0  1,009.00         27.0   4.1  2021-01-25 19:00:00   \n",
       "4    137.00   NaN      62.0  1,007.00         31.0   5.1  2021-01-26 16:00:00   \n",
       "..      ...   ...       ...       ...          ...   ...                  ...   \n",
       "109   97.00  24.0      66.0  1,010.00         31.0   2.8  2021-11-10 10:00:00   \n",
       "110   65.00  24.0      66.0  1,008.50         31.0   3.6  2021-11-16 12:00:00   \n",
       "111  114.00  25.0      79.0  1,009.00         29.0   1.5  2021-11-20 09:00:00   \n",
       "112   89.00  20.5      69.0  1,011.00         26.5   3.0  2021-11-26 09:00:00   \n",
       "113   93.00  25.5      85.5  1,006.00         28.0   1.0  2021-11-29 14:00:00   \n",
       "\n",
       "    AlertLevel  \n",
       "0       #NAME?  \n",
       "1       #NAME?  \n",
       "2       #NAME?  \n",
       "3       #NAME?  \n",
       "4       #NAME?  \n",
       "..         ...  \n",
       "109     #NAME?  \n",
       "110     #NAME?  \n",
       "111     #NAME?  \n",
       "112     #NAME?  \n",
       "113     #NAME?  \n",
       "\n",
       "[114 rows x 8 columns]"
      ]
     },
     "execution_count": 14,
     "metadata": {},
     "output_type": "execute_result"
    }
   ],
   "source": [
    "new_tphcm.reset_index(drop=True, inplace=True)\n",
    "new_tphcm"
   ]
  },
  {
   "cell_type": "code",
   "execution_count": 15,
   "id": "17d7e21a",
   "metadata": {
    "id": "17d7e21a",
    "scrolled": true
   },
   "outputs": [],
   "source": [
    "new_tphcm.Pressure=new_tphcm.Pressure.apply(lambda x :( x.replace(',','')))"
   ]
  },
  {
   "cell_type": "code",
   "execution_count": 16,
   "id": "571f2fab",
   "metadata": {
    "colab": {
     "base_uri": "https://localhost:8080/"
    },
    "id": "571f2fab",
    "outputId": "576049c6-8284-409a-8933-46ba77793ac2"
   },
   "outputs": [
    {
     "name": "stdout",
     "output_type": "stream",
     "text": [
      "<class 'pandas.core.frame.DataFrame'>\n",
      "RangeIndex: 114 entries, 0 to 113\n",
      "Data columns (total 8 columns):\n",
      " #   Column       Non-Null Count  Dtype         \n",
      "---  ------       --------------  -----         \n",
      " 0   AQI          114 non-null    float64       \n",
      " 1   Dew          99 non-null     float64       \n",
      " 2   Humidity     114 non-null    float64       \n",
      " 3   Pressure     114 non-null    float64       \n",
      " 4   Temperature  114 non-null    float64       \n",
      " 5   Wind         114 non-null    float64       \n",
      " 6   DataTimeS    114 non-null    datetime64[ns]\n",
      " 7   AlertLevel   114 non-null    object        \n",
      "dtypes: datetime64[ns](1), float64(6), object(1)\n",
      "memory usage: 7.2+ KB\n"
     ]
    }
   ],
   "source": [
    "new_tphcm= new_tphcm.astype({'AQI':'float'})\n",
    "new_tphcm= new_tphcm.astype({'Pressure':'float'})\n",
    "new_tphcm= new_tphcm.astype({'DataTimeS':'datetime64'})\n",
    "new_tphcm.info()"
   ]
  },
  {
   "cell_type": "code",
   "execution_count": 17,
   "id": "0172ec6f",
   "metadata": {
    "id": "0172ec6f"
   },
   "outputs": [],
   "source": [
    "\n",
    "def Alert_Level(value):\n",
    "    if value < 50:\n",
    "        return \"good\"\n",
    "    if 50 <= value < 100:\n",
    "        return \"Moderate\"\n",
    "    elif 100 <= value < 150:\n",
    "        return \"Unhealthy for Sensitive Groups\"\n",
    "    elif 150 <= value < 200:\n",
    "        return \"Unhealthy\"\n",
    "    elif 200 <= value < 300:\n",
    "        return \"Very Unhealthy\"\n",
    "    elif value >= 300:\n",
    "        return \"Hazardous\"\n",
    " \n",
    "new_tphcm['AlertLevel'] = new_tphcm['AQI'].map(Alert_Level)\n",
    "#new\n",
    "    "
   ]
  },
  {
   "cell_type": "code",
   "execution_count": 18,
   "id": "a9e91ed4",
   "metadata": {
    "colab": {
     "base_uri": "https://localhost:8080/"
    },
    "id": "a9e91ed4",
    "outputId": "ec4d82d2-f144-477c-f39f-f0736955881d"
   },
   "outputs": [
    {
     "name": "stdout",
     "output_type": "stream",
     "text": [
      "<class 'pandas.core.frame.DataFrame'>\n",
      "RangeIndex: 114 entries, 0 to 113\n",
      "Data columns (total 8 columns):\n",
      " #   Column       Non-Null Count  Dtype         \n",
      "---  ------       --------------  -----         \n",
      " 0   AQI          114 non-null    float64       \n",
      " 1   Dew          99 non-null     float64       \n",
      " 2   Humidity     114 non-null    float64       \n",
      " 3   Pressure     114 non-null    float64       \n",
      " 4   Temperature  114 non-null    float64       \n",
      " 5   Wind         114 non-null    float64       \n",
      " 6   DataTimeS    114 non-null    datetime64[ns]\n",
      " 7   AlertLevel   114 non-null    object        \n",
      "dtypes: datetime64[ns](1), float64(6), object(1)\n",
      "memory usage: 7.2+ KB\n"
     ]
    }
   ],
   "source": [
    "new_tphcm.info()"
   ]
  },
  {
   "cell_type": "code",
   "execution_count": 19,
   "id": "26b4b99e",
   "metadata": {
    "colab": {
     "base_uri": "https://localhost:8080/",
     "height": 423
    },
    "id": "26b4b99e",
    "outputId": "5b54d25d-1d88-4c9e-9ef3-e7720f48c14e"
   },
   "outputs": [
    {
     "data": {
      "text/html": [
       "<div>\n",
       "<style scoped>\n",
       "    .dataframe tbody tr th:only-of-type {\n",
       "        vertical-align: middle;\n",
       "    }\n",
       "\n",
       "    .dataframe tbody tr th {\n",
       "        vertical-align: top;\n",
       "    }\n",
       "\n",
       "    .dataframe thead th {\n",
       "        text-align: right;\n",
       "    }\n",
       "</style>\n",
       "<table border=\"1\" class=\"dataframe\">\n",
       "  <thead>\n",
       "    <tr style=\"text-align: right;\">\n",
       "      <th></th>\n",
       "      <th>AQI</th>\n",
       "      <th>Dew</th>\n",
       "      <th>Humidity</th>\n",
       "      <th>Pressure</th>\n",
       "      <th>Temperature</th>\n",
       "      <th>Wind</th>\n",
       "      <th>DataTimeS</th>\n",
       "      <th>AlertLevel</th>\n",
       "    </tr>\n",
       "  </thead>\n",
       "  <tbody>\n",
       "    <tr>\n",
       "      <th>0</th>\n",
       "      <td>102.0</td>\n",
       "      <td>NaN</td>\n",
       "      <td>83.0</td>\n",
       "      <td>1009.0</td>\n",
       "      <td>27.0</td>\n",
       "      <td>3.6</td>\n",
       "      <td>2021-01-21 19:00:00</td>\n",
       "      <td>Unhealthy for Sensitive Groups</td>\n",
       "    </tr>\n",
       "    <tr>\n",
       "      <th>1</th>\n",
       "      <td>122.0</td>\n",
       "      <td>NaN</td>\n",
       "      <td>56.5</td>\n",
       "      <td>1008.5</td>\n",
       "      <td>30.5</td>\n",
       "      <td>2.5</td>\n",
       "      <td>2021-01-22 13:00:00</td>\n",
       "      <td>Unhealthy for Sensitive Groups</td>\n",
       "    </tr>\n",
       "    <tr>\n",
       "      <th>2</th>\n",
       "      <td>114.0</td>\n",
       "      <td>NaN</td>\n",
       "      <td>49.0</td>\n",
       "      <td>1007.0</td>\n",
       "      <td>32.0</td>\n",
       "      <td>1.5</td>\n",
       "      <td>2021-01-23 15:00:00</td>\n",
       "      <td>Unhealthy for Sensitive Groups</td>\n",
       "    </tr>\n",
       "    <tr>\n",
       "      <th>3</th>\n",
       "      <td>80.0</td>\n",
       "      <td>NaN</td>\n",
       "      <td>74.0</td>\n",
       "      <td>1009.0</td>\n",
       "      <td>27.0</td>\n",
       "      <td>4.1</td>\n",
       "      <td>2021-01-25 19:00:00</td>\n",
       "      <td>Moderate</td>\n",
       "    </tr>\n",
       "    <tr>\n",
       "      <th>4</th>\n",
       "      <td>137.0</td>\n",
       "      <td>NaN</td>\n",
       "      <td>62.0</td>\n",
       "      <td>1007.0</td>\n",
       "      <td>31.0</td>\n",
       "      <td>5.1</td>\n",
       "      <td>2021-01-26 16:00:00</td>\n",
       "      <td>Unhealthy for Sensitive Groups</td>\n",
       "    </tr>\n",
       "    <tr>\n",
       "      <th>...</th>\n",
       "      <td>...</td>\n",
       "      <td>...</td>\n",
       "      <td>...</td>\n",
       "      <td>...</td>\n",
       "      <td>...</td>\n",
       "      <td>...</td>\n",
       "      <td>...</td>\n",
       "      <td>...</td>\n",
       "    </tr>\n",
       "    <tr>\n",
       "      <th>109</th>\n",
       "      <td>97.0</td>\n",
       "      <td>24.0</td>\n",
       "      <td>66.0</td>\n",
       "      <td>1010.0</td>\n",
       "      <td>31.0</td>\n",
       "      <td>2.8</td>\n",
       "      <td>2021-11-10 10:00:00</td>\n",
       "      <td>Moderate</td>\n",
       "    </tr>\n",
       "    <tr>\n",
       "      <th>110</th>\n",
       "      <td>65.0</td>\n",
       "      <td>24.0</td>\n",
       "      <td>66.0</td>\n",
       "      <td>1008.5</td>\n",
       "      <td>31.0</td>\n",
       "      <td>3.6</td>\n",
       "      <td>2021-11-16 12:00:00</td>\n",
       "      <td>Moderate</td>\n",
       "    </tr>\n",
       "    <tr>\n",
       "      <th>111</th>\n",
       "      <td>114.0</td>\n",
       "      <td>25.0</td>\n",
       "      <td>79.0</td>\n",
       "      <td>1009.0</td>\n",
       "      <td>29.0</td>\n",
       "      <td>1.5</td>\n",
       "      <td>2021-11-20 09:00:00</td>\n",
       "      <td>Unhealthy for Sensitive Groups</td>\n",
       "    </tr>\n",
       "    <tr>\n",
       "      <th>112</th>\n",
       "      <td>89.0</td>\n",
       "      <td>20.5</td>\n",
       "      <td>69.0</td>\n",
       "      <td>1011.0</td>\n",
       "      <td>26.5</td>\n",
       "      <td>3.0</td>\n",
       "      <td>2021-11-26 09:00:00</td>\n",
       "      <td>Moderate</td>\n",
       "    </tr>\n",
       "    <tr>\n",
       "      <th>113</th>\n",
       "      <td>93.0</td>\n",
       "      <td>25.5</td>\n",
       "      <td>85.5</td>\n",
       "      <td>1006.0</td>\n",
       "      <td>28.0</td>\n",
       "      <td>1.0</td>\n",
       "      <td>2021-11-29 14:00:00</td>\n",
       "      <td>Moderate</td>\n",
       "    </tr>\n",
       "  </tbody>\n",
       "</table>\n",
       "<p>114 rows × 8 columns</p>\n",
       "</div>"
      ],
      "text/plain": [
       "       AQI   Dew  Humidity  Pressure  Temperature  Wind           DataTimeS  \\\n",
       "0    102.0   NaN      83.0    1009.0         27.0   3.6 2021-01-21 19:00:00   \n",
       "1    122.0   NaN      56.5    1008.5         30.5   2.5 2021-01-22 13:00:00   \n",
       "2    114.0   NaN      49.0    1007.0         32.0   1.5 2021-01-23 15:00:00   \n",
       "3     80.0   NaN      74.0    1009.0         27.0   4.1 2021-01-25 19:00:00   \n",
       "4    137.0   NaN      62.0    1007.0         31.0   5.1 2021-01-26 16:00:00   \n",
       "..     ...   ...       ...       ...          ...   ...                 ...   \n",
       "109   97.0  24.0      66.0    1010.0         31.0   2.8 2021-11-10 10:00:00   \n",
       "110   65.0  24.0      66.0    1008.5         31.0   3.6 2021-11-16 12:00:00   \n",
       "111  114.0  25.0      79.0    1009.0         29.0   1.5 2021-11-20 09:00:00   \n",
       "112   89.0  20.5      69.0    1011.0         26.5   3.0 2021-11-26 09:00:00   \n",
       "113   93.0  25.5      85.5    1006.0         28.0   1.0 2021-11-29 14:00:00   \n",
       "\n",
       "                         AlertLevel  \n",
       "0    Unhealthy for Sensitive Groups  \n",
       "1    Unhealthy for Sensitive Groups  \n",
       "2    Unhealthy for Sensitive Groups  \n",
       "3                          Moderate  \n",
       "4    Unhealthy for Sensitive Groups  \n",
       "..                              ...  \n",
       "109                        Moderate  \n",
       "110                        Moderate  \n",
       "111  Unhealthy for Sensitive Groups  \n",
       "112                        Moderate  \n",
       "113                        Moderate  \n",
       "\n",
       "[114 rows x 8 columns]"
      ]
     },
     "execution_count": 19,
     "metadata": {},
     "output_type": "execute_result"
    }
   ],
   "source": [
    "new_tphcm"
   ]
  },
  {
   "cell_type": "code",
   "execution_count": null,
   "id": "6ce50fb9",
   "metadata": {
    "id": "6ce50fb9"
   },
   "outputs": [],
   "source": []
  },
  {
   "cell_type": "markdown",
   "id": "8kxxwqup1mu6",
   "metadata": {
    "id": "8kxxwqup1mu6"
   },
   "source": [
    "Visualization correlation"
   ]
  },
  {
   "cell_type": "code",
   "execution_count": 20,
   "id": "-PvU8H551r-i",
   "metadata": {
    "id": "-PvU8H551r-i"
   },
   "outputs": [],
   "source": [
    "%matplotlib inline\n",
    "plt.rcParams['figure.figsize'] =  (15,5)\n",
    "plt.rcParams['font.sans-serif'] = 'Open Sans'\n",
    "plt.rcParams['font.family'] = 'sans-serif'\n",
    "plt.rcParams['text.color'] = '#4c4c4c'\n",
    "plt.rcParams['axes.labelcolor']= '#4c4c4c'\n",
    "plt.rcParams['xtick.color'] = '#4c4c4c'\n",
    "plt.rcParams['ytick.color'] = '#4c4c4c'\n",
    "plt.rcParams['font.size']=12"
   ]
  },
  {
   "cell_type": "code",
   "execution_count": 21,
   "id": "Z5MXXRLY17xz",
   "metadata": {
    "colab": {
     "base_uri": "https://localhost:8080/",
     "height": 188
    },
    "id": "Z5MXXRLY17xz",
    "outputId": "ba4d9b75-1113-4197-a5ac-670aac010612"
   },
   "outputs": [
    {
     "data": {
      "text/html": [
       "<div>\n",
       "<style scoped>\n",
       "    .dataframe tbody tr th:only-of-type {\n",
       "        vertical-align: middle;\n",
       "    }\n",
       "\n",
       "    .dataframe tbody tr th {\n",
       "        vertical-align: top;\n",
       "    }\n",
       "\n",
       "    .dataframe thead th {\n",
       "        text-align: right;\n",
       "    }\n",
       "</style>\n",
       "<table border=\"1\" class=\"dataframe\">\n",
       "  <thead>\n",
       "    <tr style=\"text-align: right;\">\n",
       "      <th></th>\n",
       "      <th>AQI</th>\n",
       "      <th>Dew</th>\n",
       "      <th>Humidity</th>\n",
       "      <th>Pressure</th>\n",
       "      <th>Temperature</th>\n",
       "      <th>Wind</th>\n",
       "    </tr>\n",
       "  </thead>\n",
       "  <tbody>\n",
       "    <tr>\n",
       "      <th>AQI</th>\n",
       "      <td>1.000000</td>\n",
       "      <td>-0.356459</td>\n",
       "      <td>-0.311933</td>\n",
       "      <td>0.051711</td>\n",
       "      <td>0.083737</td>\n",
       "      <td>-0.162239</td>\n",
       "    </tr>\n",
       "    <tr>\n",
       "      <th>Dew</th>\n",
       "      <td>-0.356459</td>\n",
       "      <td>1.000000</td>\n",
       "      <td>0.819489</td>\n",
       "      <td>-0.155654</td>\n",
       "      <td>-0.354225</td>\n",
       "      <td>0.011938</td>\n",
       "    </tr>\n",
       "    <tr>\n",
       "      <th>Humidity</th>\n",
       "      <td>-0.311933</td>\n",
       "      <td>0.819489</td>\n",
       "      <td>1.000000</td>\n",
       "      <td>0.056465</td>\n",
       "      <td>-0.763849</td>\n",
       "      <td>-0.078454</td>\n",
       "    </tr>\n",
       "    <tr>\n",
       "      <th>Pressure</th>\n",
       "      <td>0.051711</td>\n",
       "      <td>-0.155654</td>\n",
       "      <td>0.056465</td>\n",
       "      <td>1.000000</td>\n",
       "      <td>-0.324018</td>\n",
       "      <td>-0.391819</td>\n",
       "    </tr>\n",
       "    <tr>\n",
       "      <th>Temperature</th>\n",
       "      <td>0.083737</td>\n",
       "      <td>-0.354225</td>\n",
       "      <td>-0.763849</td>\n",
       "      <td>-0.324018</td>\n",
       "      <td>1.000000</td>\n",
       "      <td>0.140152</td>\n",
       "    </tr>\n",
       "    <tr>\n",
       "      <th>Wind</th>\n",
       "      <td>-0.162239</td>\n",
       "      <td>0.011938</td>\n",
       "      <td>-0.078454</td>\n",
       "      <td>-0.391819</td>\n",
       "      <td>0.140152</td>\n",
       "      <td>1.000000</td>\n",
       "    </tr>\n",
       "  </tbody>\n",
       "</table>\n",
       "</div>"
      ],
      "text/plain": [
       "                  AQI       Dew  Humidity  Pressure  Temperature      Wind\n",
       "AQI          1.000000 -0.356459 -0.311933  0.051711     0.083737 -0.162239\n",
       "Dew         -0.356459  1.000000  0.819489 -0.155654    -0.354225  0.011938\n",
       "Humidity    -0.311933  0.819489  1.000000  0.056465    -0.763849 -0.078454\n",
       "Pressure     0.051711 -0.155654  0.056465  1.000000    -0.324018 -0.391819\n",
       "Temperature  0.083737 -0.354225 -0.763849 -0.324018     1.000000  0.140152\n",
       "Wind        -0.162239  0.011938 -0.078454 -0.391819     0.140152  1.000000"
      ]
     },
     "execution_count": 21,
     "metadata": {},
     "output_type": "execute_result"
    }
   ],
   "source": [
    "# using kendall \n",
    "new_tphcm.corr().style.background_gradient(cmap=\"Blues\")"
   ]
  },
  {
   "cell_type": "code",
   "execution_count": 22,
   "id": "YtlqmkSG2FkD",
   "metadata": {
    "id": "YtlqmkSG2FkD"
   },
   "outputs": [],
   "source": [
    "cols = ['Humidity', 'Temperature', 'Pressure']"
   ]
  },
  {
   "cell_type": "code",
   "execution_count": 23,
   "id": "ylOzRFQN2Xij",
   "metadata": {
    "colab": {
     "base_uri": "https://localhost:8080/"
    },
    "id": "ylOzRFQN2Xij",
    "outputId": "c0254ff7-ee4b-42df-f44c-ac2f2aa2ba5d"
   },
   "outputs": [
    {
     "data": {
      "text/plain": [
       "{'Humidity': -0.3119330872856137,\n",
       " 'Temperature': 0.08373695552846944,\n",
       " 'Pressure': 0.051711044194084836}"
      ]
     },
     "execution_count": 23,
     "metadata": {},
     "output_type": "execute_result"
    }
   ],
   "source": [
    "pearson = dict()\n",
    "for col in cols:\n",
    "    pearson[col] = new_tphcm.corr(method='pearson')['AQI'][col]\n",
    "pearson"
   ]
  },
  {
   "cell_type": "code",
   "execution_count": 24,
   "id": "XfglyMOn2csD",
   "metadata": {
    "colab": {
     "base_uri": "https://localhost:8080/",
     "height": 81
    },
    "id": "XfglyMOn2csD",
    "outputId": "a17fb423-fbd1-46ab-dbc7-5911225613d7"
   },
   "outputs": [
    {
     "data": {
      "text/html": [
       "<div>\n",
       "<style scoped>\n",
       "    .dataframe tbody tr th:only-of-type {\n",
       "        vertical-align: middle;\n",
       "    }\n",
       "\n",
       "    .dataframe tbody tr th {\n",
       "        vertical-align: top;\n",
       "    }\n",
       "\n",
       "    .dataframe thead th {\n",
       "        text-align: right;\n",
       "    }\n",
       "</style>\n",
       "<table border=\"1\" class=\"dataframe\">\n",
       "  <thead>\n",
       "    <tr style=\"text-align: right;\">\n",
       "      <th></th>\n",
       "      <th>Humidity</th>\n",
       "      <th>Temperature</th>\n",
       "      <th>Pressure</th>\n",
       "    </tr>\n",
       "  </thead>\n",
       "  <tbody>\n",
       "    <tr>\n",
       "      <th>pearson</th>\n",
       "      <td>-0.311933</td>\n",
       "      <td>0.083737</td>\n",
       "      <td>0.051711</td>\n",
       "    </tr>\n",
       "  </tbody>\n",
       "</table>\n",
       "</div>"
      ],
      "text/plain": [
       "         Humidity  Temperature  Pressure\n",
       "pearson -0.311933     0.083737  0.051711"
      ]
     },
     "execution_count": 24,
     "metadata": {},
     "output_type": "execute_result"
    }
   ],
   "source": [
    "data = pd.DataFrame.from_records([pearson], index=['pearson'])\n",
    "data"
   ]
  },
  {
   "cell_type": "code",
   "execution_count": 25,
   "id": "qQlsoqiH2oyH",
   "metadata": {
    "colab": {
     "base_uri": "https://localhost:8080/"
    },
    "id": "qQlsoqiH2oyH",
    "outputId": "d89b879a-5200-4c3f-a77b-3f14ef0b21da"
   },
   "outputs": [
    {
     "data": {
      "text/plain": [
       "array([0])"
      ]
     },
     "execution_count": 25,
     "metadata": {},
     "output_type": "execute_result"
    }
   ],
   "source": [
    "pos = np.arange(len(data))\n",
    "pos"
   ]
  },
  {
   "cell_type": "code",
   "execution_count": 26,
   "id": "LBA5RDgm2pn6",
   "metadata": {
    "id": "LBA5RDgm2pn6"
   },
   "outputs": [],
   "source": [
    "plt.rcParams['hatch.color'] = 'black'"
   ]
  },
  {
   "cell_type": "code",
   "execution_count": 27,
   "id": "1EYSoKM42rWr",
   "metadata": {
    "id": "1EYSoKM42rWr"
   },
   "outputs": [],
   "source": [
    "plt.style.use('seaborn-white')"
   ]
  },
  {
   "cell_type": "code",
   "execution_count": 28,
   "id": "F8iTcd1E2s3K",
   "metadata": {
    "id": "F8iTcd1E2s3K"
   },
   "outputs": [],
   "source": [
    "import matplotlib as mpl\n",
    "mpl.rcParams.update(mpl.rcParamsDefault)"
   ]
  },
  {
   "cell_type": "code",
   "execution_count": 29,
   "id": "wYTd_mli2udq",
   "metadata": {
    "colab": {
     "base_uri": "https://localhost:8080/",
     "height": 283
    },
    "id": "wYTd_mli2udq",
    "outputId": "7d0714da-978e-48db-968e-c57a78079762"
   },
   "outputs": [],
   "source": [
    "#plt.scatter(new_tphcm.AQI, new_tphcm.Humidity)\n"
   ]
  },
  {
   "cell_type": "code",
   "execution_count": 35,
   "id": "2VH-gtsW239r",
   "metadata": {
    "colab": {
     "base_uri": "https://localhost:8080/",
     "height": 1000
    },
    "id": "2VH-gtsW239r",
    "outputId": "45f66044-bd93-4f48-eb4a-f43a2fb643f7"
   },
   "outputs": [
    {
     "data": {
      "text/plain": [
       "<AxesSubplot:xlabel='Wind', ylabel='AQI'>"
      ]
     },
     "execution_count": 35,
     "metadata": {},
     "output_type": "execute_result"
    }
   ],
   "source": [
    "# sns.jointplot(new_tphcm.Humidity,new_tphcm.AQI,  kind='reg')\n",
    "# sns.jointplot( new_tphcm.Temperature,new_tphcm.AQI, kind='reg')\n",
    "# sns.jointplot(new_tphcm.Pressure,new_tphcm.AQI,  kind='reg')\n",
    "fig, axes = plt.subplots(nrows=2, ncols=2, figsize=(15,15))\n",
    "fig.suptitle('abcd')\n",
    "\n",
    "# sns.jointplot(new_tphcm.Humidity,new_tphcm.AQI,  kind='reg')\n",
    "# sns.jointplot( new_tphcm.Temperature,new_tphcm.AQI, kind='reg')\n",
    "# sns.jointplot(new_tphcm.Pressure,new_tphcm.AQI,  kind='reg')\n",
    "\n",
    "sns.regplot(x=new_tphcm['Humidity'], y=new_tphcm['AQI'], ax=axes[0,0], color='tab:orange')\n",
    "sns.regplot(x=new_tphcm['Pressure'], y=new_tphcm['AQI'], ax=axes[0,1], color='tab:pink')\n",
    "sns.regplot(x=new_tphcm['Temperature'], y=new_tphcm['AQI'], ax=axes[1,0], color='tab:brown')\n",
    "sns.regplot(x=new_tphcm['Wind'], y=new_tphcm['AQI'], ax=axes[1,1],color='tab:red')"
   ]
  },
  {
   "cell_type": "code",
   "execution_count": 36,
   "id": "6401ab9b",
   "metadata": {},
   "outputs": [
    {
     "data": {
      "text/html": [
       "<style type=\"text/css\">\n",
       "#T_9a6db_row0_col0, #T_9a6db_row1_col1, #T_9a6db_row2_col2, #T_9a6db_row3_col3, #T_9a6db_row4_col4, #T_9a6db_row5_col5 {\n",
       "  background-color: #08306b;\n",
       "  color: #f1f1f1;\n",
       "}\n",
       "#T_9a6db_row0_col1, #T_9a6db_row1_col0, #T_9a6db_row2_col4, #T_9a6db_row3_col5, #T_9a6db_row4_col1, #T_9a6db_row4_col2, #T_9a6db_row5_col3 {\n",
       "  background-color: #f7fbff;\n",
       "  color: #000000;\n",
       "}\n",
       "#T_9a6db_row0_col2 {\n",
       "  background-color: #c4daee;\n",
       "  color: #000000;\n",
       "}\n",
       "#T_9a6db_row0_col3 {\n",
       "  background-color: #b0d2e7;\n",
       "  color: #000000;\n",
       "}\n",
       "#T_9a6db_row0_col4 {\n",
       "  background-color: #72b2d8;\n",
       "  color: #f1f1f1;\n",
       "}\n",
       "#T_9a6db_row0_col5 {\n",
       "  background-color: #d6e6f4;\n",
       "  color: #000000;\n",
       "}\n",
       "#T_9a6db_row1_col2 {\n",
       "  background-color: #084b93;\n",
       "  color: #f1f1f1;\n",
       "}\n",
       "#T_9a6db_row1_col3 {\n",
       "  background-color: #d6e5f4;\n",
       "  color: #000000;\n",
       "}\n",
       "#T_9a6db_row1_col4 {\n",
       "  background-color: #caddf0;\n",
       "  color: #000000;\n",
       "}\n",
       "#T_9a6db_row1_col5 {\n",
       "  background-color: #b9d6ea;\n",
       "  color: #000000;\n",
       "}\n",
       "#T_9a6db_row2_col0 {\n",
       "  background-color: #f1f7fd;\n",
       "  color: #000000;\n",
       "}\n",
       "#T_9a6db_row2_col1 {\n",
       "  background-color: #0a539e;\n",
       "  color: #f1f1f1;\n",
       "}\n",
       "#T_9a6db_row2_col3 {\n",
       "  background-color: #afd1e7;\n",
       "  color: #000000;\n",
       "}\n",
       "#T_9a6db_row2_col5 {\n",
       "  background-color: #cbdef1;\n",
       "  color: #000000;\n",
       "}\n",
       "#T_9a6db_row3_col0 {\n",
       "  background-color: #b5d4e9;\n",
       "  color: #000000;\n",
       "}\n",
       "#T_9a6db_row3_col1 {\n",
       "  background-color: #dae8f6;\n",
       "  color: #000000;\n",
       "}\n",
       "#T_9a6db_row3_col2 {\n",
       "  background-color: #79b5d9;\n",
       "  color: #000000;\n",
       "}\n",
       "#T_9a6db_row3_col4 {\n",
       "  background-color: #c7dbef;\n",
       "  color: #000000;\n",
       "}\n",
       "#T_9a6db_row4_col0 {\n",
       "  background-color: #aed1e7;\n",
       "  color: #000000;\n",
       "}\n",
       "#T_9a6db_row4_col3 {\n",
       "  background-color: #eef5fc;\n",
       "  color: #000000;\n",
       "}\n",
       "#T_9a6db_row4_col5 {\n",
       "  background-color: #9cc9e1;\n",
       "  color: #000000;\n",
       "}\n",
       "#T_9a6db_row5_col0 {\n",
       "  background-color: #dbe9f6;\n",
       "  color: #000000;\n",
       "}\n",
       "#T_9a6db_row5_col1 {\n",
       "  background-color: #bfd8ed;\n",
       "  color: #000000;\n",
       "}\n",
       "#T_9a6db_row5_col2 {\n",
       "  background-color: #99c7e0;\n",
       "  color: #000000;\n",
       "}\n",
       "#T_9a6db_row5_col4 {\n",
       "  background-color: #66abd4;\n",
       "  color: #f1f1f1;\n",
       "}\n",
       "</style>\n",
       "<table id=\"T_9a6db\">\n",
       "  <thead>\n",
       "    <tr>\n",
       "      <th class=\"blank level0\" >&nbsp;</th>\n",
       "      <th id=\"T_9a6db_level0_col0\" class=\"col_heading level0 col0\" >AQI</th>\n",
       "      <th id=\"T_9a6db_level0_col1\" class=\"col_heading level0 col1\" >Dew</th>\n",
       "      <th id=\"T_9a6db_level0_col2\" class=\"col_heading level0 col2\" >Humidity</th>\n",
       "      <th id=\"T_9a6db_level0_col3\" class=\"col_heading level0 col3\" >Pressure</th>\n",
       "      <th id=\"T_9a6db_level0_col4\" class=\"col_heading level0 col4\" >Temperature</th>\n",
       "      <th id=\"T_9a6db_level0_col5\" class=\"col_heading level0 col5\" >Wind</th>\n",
       "    </tr>\n",
       "  </thead>\n",
       "  <tbody>\n",
       "    <tr>\n",
       "      <th id=\"T_9a6db_level0_row0\" class=\"row_heading level0 row0\" >AQI</th>\n",
       "      <td id=\"T_9a6db_row0_col0\" class=\"data row0 col0\" >1.000000</td>\n",
       "      <td id=\"T_9a6db_row0_col1\" class=\"data row0 col1\" >-0.356459</td>\n",
       "      <td id=\"T_9a6db_row0_col2\" class=\"data row0 col2\" >-0.311933</td>\n",
       "      <td id=\"T_9a6db_row0_col3\" class=\"data row0 col3\" >0.051711</td>\n",
       "      <td id=\"T_9a6db_row0_col4\" class=\"data row0 col4\" >0.083737</td>\n",
       "      <td id=\"T_9a6db_row0_col5\" class=\"data row0 col5\" >-0.162239</td>\n",
       "    </tr>\n",
       "    <tr>\n",
       "      <th id=\"T_9a6db_level0_row1\" class=\"row_heading level0 row1\" >Dew</th>\n",
       "      <td id=\"T_9a6db_row1_col0\" class=\"data row1 col0\" >-0.356459</td>\n",
       "      <td id=\"T_9a6db_row1_col1\" class=\"data row1 col1\" >1.000000</td>\n",
       "      <td id=\"T_9a6db_row1_col2\" class=\"data row1 col2\" >0.819489</td>\n",
       "      <td id=\"T_9a6db_row1_col3\" class=\"data row1 col3\" >-0.155654</td>\n",
       "      <td id=\"T_9a6db_row1_col4\" class=\"data row1 col4\" >-0.354225</td>\n",
       "      <td id=\"T_9a6db_row1_col5\" class=\"data row1 col5\" >0.011938</td>\n",
       "    </tr>\n",
       "    <tr>\n",
       "      <th id=\"T_9a6db_level0_row2\" class=\"row_heading level0 row2\" >Humidity</th>\n",
       "      <td id=\"T_9a6db_row2_col0\" class=\"data row2 col0\" >-0.311933</td>\n",
       "      <td id=\"T_9a6db_row2_col1\" class=\"data row2 col1\" >0.819489</td>\n",
       "      <td id=\"T_9a6db_row2_col2\" class=\"data row2 col2\" >1.000000</td>\n",
       "      <td id=\"T_9a6db_row2_col3\" class=\"data row2 col3\" >0.056465</td>\n",
       "      <td id=\"T_9a6db_row2_col4\" class=\"data row2 col4\" >-0.763849</td>\n",
       "      <td id=\"T_9a6db_row2_col5\" class=\"data row2 col5\" >-0.078454</td>\n",
       "    </tr>\n",
       "    <tr>\n",
       "      <th id=\"T_9a6db_level0_row3\" class=\"row_heading level0 row3\" >Pressure</th>\n",
       "      <td id=\"T_9a6db_row3_col0\" class=\"data row3 col0\" >0.051711</td>\n",
       "      <td id=\"T_9a6db_row3_col1\" class=\"data row3 col1\" >-0.155654</td>\n",
       "      <td id=\"T_9a6db_row3_col2\" class=\"data row3 col2\" >0.056465</td>\n",
       "      <td id=\"T_9a6db_row3_col3\" class=\"data row3 col3\" >1.000000</td>\n",
       "      <td id=\"T_9a6db_row3_col4\" class=\"data row3 col4\" >-0.324018</td>\n",
       "      <td id=\"T_9a6db_row3_col5\" class=\"data row3 col5\" >-0.391819</td>\n",
       "    </tr>\n",
       "    <tr>\n",
       "      <th id=\"T_9a6db_level0_row4\" class=\"row_heading level0 row4\" >Temperature</th>\n",
       "      <td id=\"T_9a6db_row4_col0\" class=\"data row4 col0\" >0.083737</td>\n",
       "      <td id=\"T_9a6db_row4_col1\" class=\"data row4 col1\" >-0.354225</td>\n",
       "      <td id=\"T_9a6db_row4_col2\" class=\"data row4 col2\" >-0.763849</td>\n",
       "      <td id=\"T_9a6db_row4_col3\" class=\"data row4 col3\" >-0.324018</td>\n",
       "      <td id=\"T_9a6db_row4_col4\" class=\"data row4 col4\" >1.000000</td>\n",
       "      <td id=\"T_9a6db_row4_col5\" class=\"data row4 col5\" >0.140152</td>\n",
       "    </tr>\n",
       "    <tr>\n",
       "      <th id=\"T_9a6db_level0_row5\" class=\"row_heading level0 row5\" >Wind</th>\n",
       "      <td id=\"T_9a6db_row5_col0\" class=\"data row5 col0\" >-0.162239</td>\n",
       "      <td id=\"T_9a6db_row5_col1\" class=\"data row5 col1\" >0.011938</td>\n",
       "      <td id=\"T_9a6db_row5_col2\" class=\"data row5 col2\" >-0.078454</td>\n",
       "      <td id=\"T_9a6db_row5_col3\" class=\"data row5 col3\" >-0.391819</td>\n",
       "      <td id=\"T_9a6db_row5_col4\" class=\"data row5 col4\" >0.140152</td>\n",
       "      <td id=\"T_9a6db_row5_col5\" class=\"data row5 col5\" >1.000000</td>\n",
       "    </tr>\n",
       "  </tbody>\n",
       "</table>\n"
      ],
      "text/plain": [
       "<pandas.io.formats.style.Styler at 0x2c982945250>"
      ]
     },
     "execution_count": 36,
     "metadata": {},
     "output_type": "execute_result"
    }
   ],
   "source": [
    "#new_tphcm.corr().style.background_gradient(cmap=\"Blues\")"
   ]
  },
  {
   "cell_type": "code",
   "execution_count": null,
   "id": "3FRFkMNn3HHd",
   "metadata": {
    "colab": {
     "base_uri": "https://localhost:8080/"
    },
    "id": "3FRFkMNn3HHd",
    "outputId": "7bdb2184-6451-43e6-98fd-b2187a1ba204"
   },
   "outputs": [
    {
     "data": {
      "text/plain": [
       "array([  0.        ,   6.66666667,  13.33333333,  20.        ,\n",
       "        26.66666667,  33.33333333,  40.        ,  46.66666667,\n",
       "        53.33333333,  60.        ,  66.66666667,  73.33333333,\n",
       "        80.        ,  86.66666667,  93.33333333, 100.        ])"
      ]
     },
     "execution_count": 38,
     "metadata": {},
     "output_type": "execute_result"
    }
   ],
   "source": [
    "rhs = np.linspace(0,100,16)\n",
    "rhs"
   ]
  },
  {
   "cell_type": "code",
   "execution_count": null,
   "id": "cX8LCBUP3IAL",
   "metadata": {
    "colab": {
     "base_uri": "https://localhost:8080/"
    },
    "id": "cX8LCBUP3IAL",
    "outputId": "61b01692-9ddc-4119-a154-bf917dab2bdc"
   },
   "outputs": [
    {
     "data": {
      "text/plain": [
       "['3',\n",
       " '10',\n",
       " '17',\n",
       " '23',\n",
       " '30',\n",
       " '37',\n",
       " '43',\n",
       " '50',\n",
       " '57',\n",
       " '63',\n",
       " '70',\n",
       " '77',\n",
       " '83',\n",
       " '90',\n",
       " '97']"
      ]
     },
     "execution_count": 39,
     "metadata": {},
     "output_type": "execute_result"
    }
   ],
   "source": [
    "labels = [f'{(rhs[i] + rhs[i+1])/2:.0f}' for i in (range(len(rhs)-1))]\n",
    "labels"
   ]
  },
  {
   "cell_type": "code",
   "execution_count": null,
   "id": "l3IzAfXk3KVL",
   "metadata": {
    "id": "l3IzAfXk3KVL"
   },
   "outputs": [],
   "source": [
    "new_tphcm['RHC'] = pd.cut(df['Humidity'], bins=rhs, labels=labels).astype('category')"
   ]
  },
  {
   "cell_type": "code",
   "execution_count": null,
   "id": "ABSDtkqB3SEr",
   "metadata": {
    "id": "ABSDtkqB3SEr"
   },
   "outputs": [],
   "source": [
    "dfs = new_tphcm.groupby('RHC')"
   ]
  },
  {
   "cell_type": "code",
   "execution_count": null,
   "id": "r-ATqtXc3Vvb",
   "metadata": {
    "colab": {
     "base_uri": "https://localhost:8080/",
     "height": 283
    },
    "id": "r-ATqtXc3Vvb",
    "outputId": "a94f6f65-6c11-4f4e-8aa3-b72e02955ee6"
   },
   "outputs": [
    {
     "data": {
      "text/plain": [
       "<ErrorbarContainer object of 3 artists>"
      ]
     },
     "execution_count": 50,
     "metadata": {},
     "output_type": "execute_result"
    },
    {
     "data": {
      "image/png": "[encoded data removed]",
      "text/plain": [
       "<Figure size 432x288 with 1 Axes>"
      ]
     },
     "metadata": {
      "needs_background": "light"
     },
     "output_type": "display_data"
    }
   ],
   "source": [
    "plt.errorbar(x=list(dfs.mean().index), y=dfs.mean().AQI, yerr=dfs.std().AQI,\n",
    "            fmt='o', capsize=8, capthick=2, color='black',\n",
    "            marker='o', markersize=10)"
   ]
  },
  {
   "cell_type": "code",
   "execution_count": null,
   "id": "AiINrqf-33Vb",
   "metadata": {
    "colab": {
     "base_uri": "https://localhost:8080/",
     "height": 297
    },
    "id": "AiINrqf-33Vb",
    "outputId": "4bab1779-628e-48ad-c6d0-f317130b7824"
   },
   "outputs": [
    {
     "data": {
      "text/plain": [
       "Text(0.5, 0, 'RH, %')"
      ]
     },
     "execution_count": 54,
     "metadata": {},
     "output_type": "execute_result"
    },
    {
     "data": {
      "image/png": "[encoded data removed]",
      "text/plain": [
       "<Figure size 432x288 with 1 Axes>"
      ]
     },
     "metadata": {
      "needs_background": "light"
     },
     "output_type": "display_data"
    }
   ],
   "source": [
    "plt.plot(list(dfs.mean().index), dfs.mean().AQI, lw=2, color='r')\n",
    "plt.fill_between(x=list(dfs.mean().index), y1=dfs.mean().AQI - dfs.std().AQI , \n",
    "                 y2=dfs.mean().AQI + dfs.std().AQI, alpha=0.3)\n",
    "plt.ylabel('PM2.5, ug/m3')\n",
    "plt.xlabel('RH, %')"
   ]
  },
  {
   "cell_type": "code",
   "execution_count": null,
   "id": "0CNyHsFh5lfn",
   "metadata": {
    "id": "0CNyHsFh5lfn"
   },
   "outputs": [],
   "source": [
    "# Temperature"
   ]
  },
  {
   "cell_type": "code",
   "execution_count": null,
   "id": "gyZOrEKe47Ns",
   "metadata": {
    "id": "gyZOrEKe47Ns"
   },
   "outputs": [],
   "source": [
    "tmps = np.linspace(0,40,21)\n",
    "labels = [f'{(tmps[i] + tmps[i+1])/2:.0f}' for i in (range(len(tmps)-1))]\n",
    "df['TMPC'] = pd.cut(new_tphcm['Temperature'], bins=tmps, labels=labels).astype('category')"
   ]
  },
  {
   "cell_type": "code",
   "execution_count": null,
   "id": "aVTD8z725Z3D",
   "metadata": {
    "colab": {
     "base_uri": "https://localhost:8080/",
     "height": 301
    },
    "id": "aVTD8z725Z3D",
    "outputId": "2a58f192-ee14-41f4-ff0a-38803083b26b"
   },
   "outputs": [
    {
     "data": {
      "text/plain": [
       "Text(0.5, 0, 'Temperature, $ ^\\\\circ C$')"
      ]
     },
     "execution_count": 60,
     "metadata": {},
     "output_type": "execute_result"
    },
    {
     "data": {
      "image/png": "[encoded data removed]",
      "text/plain": [
       "<Figure size 432x288 with 1 Axes>"
      ]
     },
     "metadata": {
      "needs_background": "light"
     },
     "output_type": "display_data"
    }
   ],
   "source": [
    "dfs = new_tphcm.groupby('Temperature')\n",
    "plt.plot(list(dfs.mean().index), dfs.mean().AQI, lw=2, color='r')\n",
    "plt.fill_between(x=list(dfs.mean().index), y1=dfs.mean().AQI - dfs.std().AQI , \n",
    "                 y2=dfs.mean().AQI + dfs.std().AQI, alpha=0.3)\n",
    "plt.ylabel('$PM_{2.5}, \\mu g/m^3$')\n",
    "plt.xlabel('Temperature, $ ^\\circ C$')"
   ]
  },
  {
   "cell_type": "code",
   "execution_count": null,
   "id": "vuLXztWj51Sb",
   "metadata": {
    "id": "vuLXztWj51Sb"
   },
   "outputs": [],
   "source": [
    "# đường xu hướng cho thấy chỉ số AQI phân bố không đều theo nhiệt độ , \n",
    "# nhiệt độ cao AQI cao nhưng không phải lúc nào cũng vậy "
   ]
  },
  {
   "cell_type": "code",
   "execution_count": null,
   "id": "BAua4g8M7vqz",
   "metadata": {
    "id": "BAua4g8M7vqz"
   },
   "outputs": [],
   "source": []
  },
  {
   "cell_type": "markdown",
   "id": "z6NmrUtY-RmH",
   "metadata": {
    "id": "z6NmrUtY-RmH"
   },
   "source": [
    "Speed wind"
   ]
  },
  {
   "cell_type": "code",
   "execution_count": null,
   "id": "HDn3ryZ0-TXT",
   "metadata": {
    "colab": {
     "base_uri": "https://localhost:8080/"
    },
    "id": "HDn3ryZ0-TXT",
    "outputId": "62e2cb84-1a24-4144-d289-a44526b824f4"
   },
   "outputs": [
    {
     "data": {
      "text/plain": [
       "array([ 0.,  2.,  4.,  6.,  8., 10., 12.])"
      ]
     },
     "execution_count": 64,
     "metadata": {},
     "output_type": "execute_result"
    }
   ],
   "source": [
    "speeds = np.linspace(0,12,7)\n",
    "speeds"
   ]
  },
  {
   "cell_type": "code",
   "execution_count": null,
   "id": "fy4rUesk-T5r",
   "metadata": {
    "colab": {
     "base_uri": "https://localhost:8080/"
    },
    "id": "fy4rUesk-T5r",
    "outputId": "372caaca-4831-40fd-b6ef-0e1fd0a06797"
   },
   "outputs": [
    {
     "data": {
      "text/plain": [
       "['1', '3', '5', '7', '9', '11']"
      ]
     },
     "execution_count": 65,
     "metadata": {},
     "output_type": "execute_result"
    }
   ],
   "source": [
    "labels = [f'{(speeds[i] + speeds[i+1])/2:.0f}' for i in (range(len(speeds)-1))]\n",
    "labels"
   ]
  },
  {
   "cell_type": "code",
   "execution_count": null,
   "id": "-AgZdz4E-Vs7",
   "metadata": {
    "id": "-AgZdz4E-Vs7"
   },
   "outputs": [],
   "source": [
    "new_tphcm['Wind'] = pd.cut(new_tphcm['Wind'], bins=speeds, labels=labels).astype('category')"
   ]
  },
  {
   "cell_type": "code",
   "execution_count": null,
   "id": "A4S8O4J8-cPC",
   "metadata": {
    "id": "A4S8O4J8-cPC"
   },
   "outputs": [],
   "source": [
    "dfs = new_tphcm.groupby('Wind')"
   ]
  },
  {
   "cell_type": "code",
   "execution_count": null,
   "id": "UVMnoVDb-iDL",
   "metadata": {
    "colab": {
     "base_uri": "https://localhost:8080/",
     "height": 283
    },
    "id": "UVMnoVDb-iDL",
    "outputId": "69ff8105-4f79-4227-805a-9c0576505561"
   },
   "outputs": [
    {
     "data": {
      "text/plain": [
       "<ErrorbarContainer object of 3 artists>"
      ]
     },
     "execution_count": 68,
     "metadata": {},
     "output_type": "execute_result"
    },
    {
     "data": {
      "image/png": "[encoded data removed]",
      "text/plain": [
       "<Figure size 432x288 with 1 Axes>"
      ]
     },
     "metadata": {
      "needs_background": "light"
     },
     "output_type": "display_data"
    }
   ],
   "source": [
    "plt.errorbar(x=list(dfs.mean().index), y=dfs.mean().AQI, yerr=dfs.std().AQI,\n",
    "            fmt='o', capsize=8, capthick=2, color='black',\n",
    "            marker='o', markersize=10)"
   ]
  },
  {
   "cell_type": "code",
   "execution_count": null,
   "id": "oar6pJmv-oOK",
   "metadata": {
    "colab": {
     "base_uri": "https://localhost:8080/",
     "height": 283
    },
    "id": "oar6pJmv-oOK",
    "outputId": "85b4a1a7-a966-450f-de9b-34ee208885b5"
   },
   "outputs": [
    {
     "data": {
      "text/plain": [
       "<matplotlib.collections.PolyCollection at 0x7fd214f35a30>"
      ]
     },
     "execution_count": 69,
     "metadata": {},
     "output_type": "execute_result"
    },
    {
     "data": {
      "image/png": "[encoded data removed]",
      "text/plain": [
       "<Figure size 432x288 with 1 Axes>"
      ]
     },
     "metadata": {
      "needs_background": "light"
     },
     "output_type": "display_data"
    }
   ],
   "source": [
    "plt.fill_between(x=list(dfs.mean().index), y1=dfs.mean().AQI - dfs.std().AQI , \n",
    "                 y2=dfs.mean().AQI + dfs.std().AQI, alpha=0.3)"
   ]
  },
  {
   "cell_type": "code",
   "execution_count": null,
   "id": "AFPR36SG-x9T",
   "metadata": {
    "colab": {
     "base_uri": "https://localhost:8080/"
    },
    "id": "AFPR36SG-x9T",
    "outputId": "87fc3528-472a-480a-a2fe-73d72014eb5e"
   },
   "outputs": [
    {
     "data": {
      "text/plain": [
       "['0.5',\n",
       " '1.5',\n",
       " '2.5',\n",
       " '3.5',\n",
       " '4.5',\n",
       " '5.5',\n",
       " '6.5',\n",
       " '7.5',\n",
       " '8.5',\n",
       " '9.5',\n",
       " '10.5',\n",
       " '11.5']"
      ]
     },
     "execution_count": 70,
     "metadata": {},
     "output_type": "execute_result"
    }
   ],
   "source": [
    "speeds = np.linspace(0,12,13)\n",
    "labels = [f'{(speeds[i] + speeds[i+1])/2:.1f}' for i in (range(len(speeds)-1))]\n",
    "labels"
   ]
  },
  {
   "cell_type": "code",
   "execution_count": null,
   "id": "GmWtGg1-_ziu",
   "metadata": {
    "colab": {
     "base_uri": "https://localhost:8080/",
     "height": 338
    },
    "id": "GmWtGg1-_ziu",
    "outputId": "14372b17-289c-4f6e-f0c8-73f81f42ab6a"
   },
   "outputs": [
    {
     "ename": "TypeError",
     "evalue": "ignored",
     "output_type": "error",
     "traceback": [
      "\u001b[0;31m---------------------------------------------------------------------------\u001b[0m",
      "\u001b[0;31mTypeError\u001b[0m                                 Traceback (most recent call last)",
      "\u001b[0;32m<ipython-input-79-c1b859b4c42e>\u001b[0m in \u001b[0;36m<module>\u001b[0;34m\u001b[0m\n\u001b[0;32m----> 1\u001b[0;31m \u001b[0mnew_tphcm\u001b[0m\u001b[0;34m[\u001b[0m\u001b[0;34m'Wind'\u001b[0m\u001b[0;34m]\u001b[0m \u001b[0;34m=\u001b[0m \u001b[0mpd\u001b[0m\u001b[0;34m.\u001b[0m\u001b[0mcut\u001b[0m\u001b[0;34m(\u001b[0m\u001b[0mnew_tphcm\u001b[0m\u001b[0;34m[\u001b[0m\u001b[0;34m'Wind'\u001b[0m\u001b[0;34m]\u001b[0m\u001b[0;34m,\u001b[0m \u001b[0mbins\u001b[0m\u001b[0;34m=\u001b[0m\u001b[0mspeeds\u001b[0m\u001b[0;34m,\u001b[0m \u001b[0mlabels\u001b[0m\u001b[0;34m=\u001b[0m\u001b[0mlabels\u001b[0m\u001b[0;34m)\u001b[0m\u001b[0;34m.\u001b[0m\u001b[0mastype\u001b[0m\u001b[0;34m(\u001b[0m\u001b[0;34m'category'\u001b[0m\u001b[0;34m)\u001b[0m\u001b[0;34m\u001b[0m\u001b[0;34m\u001b[0m\u001b[0m\n\u001b[0m",
      "\u001b[0;32m/usr/local/lib/python3.8/dist-packages/pandas/core/reshape/tile.py\u001b[0m in \u001b[0;36mcut\u001b[0;34m(x, bins, right, labels, retbins, precision, include_lowest, duplicates, ordered)\u001b[0m\n\u001b[1;32m    285\u001b[0m             \u001b[0;32mraise\u001b[0m \u001b[0mValueError\u001b[0m\u001b[0;34m(\u001b[0m\u001b[0;34m\"bins must increase monotonically.\"\u001b[0m\u001b[0;34m)\u001b[0m\u001b[0;34m\u001b[0m\u001b[0;34m\u001b[0m\u001b[0m\n\u001b[1;32m    286\u001b[0m \u001b[0;34m\u001b[0m\u001b[0m\n\u001b[0;32m--> 287\u001b[0;31m     fac, bins = _bins_to_cuts(\n\u001b[0m\u001b[1;32m    288\u001b[0m         \u001b[0mx\u001b[0m\u001b[0;34m,\u001b[0m\u001b[0;34m\u001b[0m\u001b[0;34m\u001b[0m\u001b[0m\n\u001b[1;32m    289\u001b[0m         \u001b[0mbins\u001b[0m\u001b[0;34m,\u001b[0m\u001b[0;34m\u001b[0m\u001b[0;34m\u001b[0m\u001b[0m\n",
      "\u001b[0;32m/usr/local/lib/python3.8/dist-packages/pandas/core/reshape/tile.py\u001b[0m in \u001b[0;36m_bins_to_cuts\u001b[0;34m(x, bins, right, labels, precision, include_lowest, dtype, duplicates, ordered)\u001b[0m\n\u001b[1;32m    419\u001b[0m \u001b[0;34m\u001b[0m\u001b[0m\n\u001b[1;32m    420\u001b[0m     \u001b[0mside\u001b[0m \u001b[0;34m=\u001b[0m \u001b[0;34m\"left\"\u001b[0m \u001b[0;32mif\u001b[0m \u001b[0mright\u001b[0m \u001b[0;32melse\u001b[0m \u001b[0;34m\"right\"\u001b[0m\u001b[0;34m\u001b[0m\u001b[0;34m\u001b[0m\u001b[0m\n\u001b[0;32m--> 421\u001b[0;31m     \u001b[0mids\u001b[0m \u001b[0;34m=\u001b[0m \u001b[0mensure_platform_int\u001b[0m\u001b[0;34m(\u001b[0m\u001b[0mbins\u001b[0m\u001b[0;34m.\u001b[0m\u001b[0msearchsorted\u001b[0m\u001b[0;34m(\u001b[0m\u001b[0mx\u001b[0m\u001b[0;34m,\u001b[0m \u001b[0mside\u001b[0m\u001b[0;34m=\u001b[0m\u001b[0mside\u001b[0m\u001b[0;34m)\u001b[0m\u001b[0;34m)\u001b[0m\u001b[0;34m\u001b[0m\u001b[0;34m\u001b[0m\u001b[0m\n\u001b[0m\u001b[1;32m    422\u001b[0m \u001b[0;34m\u001b[0m\u001b[0m\n\u001b[1;32m    423\u001b[0m     \u001b[0;32mif\u001b[0m \u001b[0minclude_lowest\u001b[0m\u001b[0;34m:\u001b[0m\u001b[0;34m\u001b[0m\u001b[0;34m\u001b[0m\u001b[0m\n",
      "\u001b[0;31mTypeError\u001b[0m: '<' not supported between instances of 'float' and 'str'"
     ]
    }
   ],
   "source": [
    "#new_tphcm['Wind'] = pd.cut(new_tphcm['Wind'], bins=speeds, labels=labels).astype('category')\n"
   ]
  },
  {
   "cell_type": "code",
   "execution_count": null,
   "id": "NwdJ8hxG_OLA",
   "metadata": {
    "id": "NwdJ8hxG_OLA"
   },
   "outputs": [],
   "source": [
    "dfs = new_tphcm.groupby('Wind')"
   ]
  },
  {
   "cell_type": "code",
   "execution_count": null,
   "id": "SdciB-ff_FXv",
   "metadata": {
    "colab": {
     "base_uri": "https://localhost:8080/",
     "height": 297
    },
    "id": "SdciB-ff_FXv",
    "outputId": "f68387c2-851f-45ee-812e-76e40c7c4ec8"
   },
   "outputs": [
    {
     "data": {
      "text/plain": [
       "Text(0.5, 0, 'Speed Wind')"
      ]
     },
     "execution_count": 83,
     "metadata": {},
     "output_type": "execute_result"
    },
    {
     "data": {
      "image/png": "[encoded data removed]",
      "text/plain": [
       "<Figure size 432x288 with 1 Axes>"
      ]
     },
     "metadata": {
      "needs_background": "light"
     },
     "output_type": "display_data"
    }
   ],
   "source": [
    "plt.plot(list(dfs.mean().index), dfs.mean().AQI, lw=2, color='r')\n",
    "plt.fill_between(x=list(dfs.mean().index), y1=dfs.mean().AQI - dfs.std().AQI , \n",
    "                 y2=dfs.mean().AQI + dfs.std().AQI, alpha=0.3)\n",
    "plt.ylabel('$PM_{2.5}, \\mu g/m^3$')\n",
    "plt.xlabel('Speed Wind')"
   ]
  },
  {
   "cell_type": "code",
   "execution_count": null,
   "id": "cnyxNQ_BAWaS",
   "metadata": {
    "id": "cnyxNQ_BAWaS"
   },
   "outputs": [],
   "source": []
  }
 ],
 "metadata": {
  "colab": {
   "provenance": []
  },
  "kernelspec": {
   "display_name": "Python 3 (ipykernel)",
   "language": "python",
   "name": "python3"
  },
  "language_info": {
   "codemirror_mode": {
    "name": "ipython",
    "version": 3
   },
   "file_extension": ".py",
   "mimetype": "text/x-python",
   "name": "python",
   "nbconvert_exporter": "python",
   "pygments_lexer": "ipython3",
   "version": "3.9.12"
  }
 },
 "nbformat": 4,
 "nbformat_minor": 5
}
